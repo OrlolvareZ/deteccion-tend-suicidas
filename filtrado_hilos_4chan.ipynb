{
 "cells": [
  {
   "attachments": {},
   "cell_type": "markdown",
   "metadata": {},
   "source": [
    "# Filtrado de hilos de 4chan\n",
    "\n",
    "En esta sección se filtran los hilos de 4chan que contienen palabras o frases que se han encontrado en la literatura como indicadores de tendencias suicidas.\n",
    "\n",
    "La literatura consultada se puede consultar en la sección de [Referencias](./README.md#referencias) del archivo `README.md`."
   ]
  },
  {
   "cell_type": "code",
   "execution_count": null,
   "metadata": {
    "vscode": {
     "languageId": "r"
    }
   },
   "outputs": [],
   "source": [
    "# Cargamos las palabras que queremos filtrar\n"
   ]
  }
 ],
 "metadata": {
  "kernelspec": {
   "display_name": "R",
   "language": "R",
   "name": "ir"
  },
  "language_info": {
   "name": "R"
  },
  "orig_nbformat": 4
 },
 "nbformat": 4,
 "nbformat_minor": 2
}
