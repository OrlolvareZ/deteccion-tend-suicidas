{
  "cells": [
    {
      "cell_type": "markdown",
      "metadata": {
        "id": "fBq1jPuAhr0Y"
      },
      "source": [
        "# Filtrado de hilos en 4chan\n",
        "\n",
        "En este cuaderno se procesan las publicaciones de 4chan, obtenidas a través de [web scrapping](./Scraper-4chan). Estas publicaciones pertenecen a múltiples [hilos que son considerados pertinenes]() para el objetivo de la investigación, ya sea por su idiosincrática nocividad en el uso del lenguaje, por la expresión misma de ideaciones/intenciones suicidas, o por contener sugerencias para llevar a cabo el suicidio."
      ]
    },
    {
      "cell_type": "code",
      "execution_count": 53,
      "metadata": {
        "id": "TwNbWjYBdYmG"
      },
      "outputs": [],
      "source": [
        "import fnmatch\n",
        "import pandas\n",
        "import os\n",
        "import re"
      ]
    },
    {
      "cell_type": "markdown",
      "metadata": {
        "id": "NPgNh-OHgOlo"
      },
      "source": [
        "A raíz de que se han consultado (y se consultarán) múltiples hilos, este script lee todas las publicaciones de los hilos y realiza múltiples operaciones sobre ellos.\n",
        "\n",
        "A su vez, se crea una lista de nombres de archivos ya procesados, para excluirlos de la lectura cuando se trabaje en sesiones posteriores."
      ]
    },
    {
      "cell_type": "code",
      "execution_count": 36,
      "metadata": {
        "id": "yCRhJJVujCpw"
      },
      "outputs": [],
      "source": [
        "# Función para encontrar archivos\n",
        "\n",
        "def encontrar_archivos(pattern : str, path : str, lista_ex : list, verbose : bool = False):\n",
        "\n",
        "    archivos = []\n",
        "\n",
        "    for root, dirs, files in os.walk(path):\n",
        "        for index, name in enumerate(files):\n",
        "\n",
        "          if verbose:\n",
        "            print(f'Archivo #{index + 1}: {name}')\n",
        "          if fnmatch.fnmatch(name, pattern) and name not in lista_ex:\n",
        "              archivos.append(os.path.join(root, name))\n",
        "\n",
        "    return archivos"
      ]
    },
    {
      "cell_type": "code",
      "execution_count": 27,
      "metadata": {
        "id": "3-RCHV0dpx25"
      },
      "outputs": [],
      "source": [
        "archivos_procesados = [\n",
        "\n",
        "    '',\n",
        "    '',\n",
        "\n",
        "]"
      ]
    },
    {
      "cell_type": "code",
      "execution_count": 39,
      "metadata": {
        "colab": {
          "base_uri": "https://localhost:8080/"
        },
        "id": "D4P4rzornxiM",
        "outputId": "d1cb428b-11ff-4dc2-d1ff-b80332e2c8e2"
      },
      "outputs": [
        {
          "name": "stdout",
          "output_type": "stream",
          "text": [
            "Archivo #1: 17913796 - comments & replies.csv\n"
          ]
        }
      ],
      "source": [
        "rutas_archivos = []\n",
        "rutas_base = [\n",
        "    './datos/hilos_4chan',\n",
        "]\n",
        "\n",
        "for ruta in rutas_base:\n",
        "  rutas_archivos.extend(\n",
        "    encontrar_archivos(\n",
        "        pattern = '*.csv',\n",
        "        path = ruta,\n",
        "        lista_ex = archivos_procesados,\n",
        "        verbose=True\n",
        "      )\n",
        "  )"
      ]
    },
    {
      "cell_type": "markdown",
      "metadata": {
        "id": "s1SG0Yquxmfj"
      },
      "source": [
        "Los archivos contienen saltos de línea dentro de los campos, y las respuestas a un comentario raíz tienen el prefijo \"(REPLY) >>\", seguido del número del usuario. Esto se eliminará de las publicaciones.\n",
        "\n",
        "A su vez, convertiremos todo a minúsuculas."
      ]
    },
    {
      "cell_type": "code",
      "execution_count": 126,
      "metadata": {
        "id": "XkDtJOpN7E70"
      },
      "outputs": [],
      "source": [
        "def pre_procesar_dataset(dataset : pandas.DataFrame):\n",
        "\n",
        "  # Se eliminan los saltos de línea y los nombres de usuario en las publicaciones/respuestas\n",
        "  dataset['comment/reply'] = dataset['comment/reply'].str.replace('\\n', ' ')\n",
        "  dataset['comment/reply'] = dataset['comment/reply'].str.replace('((\\(REPLY\\))?\\s>>.{8})|>', '', regex=True)\n",
        "  dataset['comment/reply'] = dataset['comment/reply'].str.lstrip()\n",
        "  # Se transforma todo a minúsculas\n",
        "  dataset['comment/reply'] = dataset['comment/reply'].str.lower()\n",
        "  # Se retiran las columnas que no se usarán\n",
        "  columnas = [\n",
        "      'post_id',\n",
        "      'subject',\n",
        "      'name',\n",
        "      'is_op?',\n",
        "  ]\n",
        "  dataset.drop(columns=columnas, inplace=True)\n",
        "  # Se renombran las columnas -> Esta adecuación se hace para darles un formato similar a los dataframes de Twitter, para que en algún momento sean más sencillos\n",
        "  # de procesar bajo el mismo conjunto de instrucciones\n",
        "  dataset.rename(\n",
        "      columns= {\n",
        "          'date_time' : 'Date',\n",
        "          'comment/reply' : 'Content',\n",
        "          'url' : 'URL'\n",
        "      }\n",
        "    )\n"
      ]
    },
    {
      "cell_type": "code",
      "execution_count": 143,
      "metadata": {
        "colab": {
          "base_uri": "https://localhost:8080/"
        },
        "id": "5E3QWpETr6um",
        "outputId": "371aad1a-a075-4931-8da7-28063abcf955"
      },
      "outputs": [
        {
          "name": "stdout",
          "output_type": "stream",
          "text": [
            "<class 'pandas.core.frame.DataFrame'>\n"
          ]
        }
      ],
      "source": [
        "# Se leen los archivos .csv encontrados\n",
        "datasets = []\n",
        "\n",
        "for ruta in rutas_archivos:\n",
        "  dataset = pandas.read_csv(ruta)\n",
        "  pre_procesar_dataset(dataset)\n",
        "  datasets.append(\n",
        "      {\n",
        "          \"nombre\" : os.path.basename(ruta),\n",
        "          \"datos\" : dataset\n",
        "      }\n",
        "    )"
      ]
    },
    {
      "cell_type": "code",
      "execution_count": 144,
      "metadata": {
        "colab": {
          "base_uri": "https://localhost:8080/",
          "height": 206
        },
        "id": "ZVwQ2mgxeeF5",
        "outputId": "2d03d619-dbef-431b-c860-2c8436516a58"
      },
      "outputs": [
        {
          "data": {
            "text/html": [
              "\n",
              "  <div id=\"df-01263820-542f-4965-963e-504a7da4a1ee\">\n",
              "    <div class=\"colab-df-container\">\n",
              "      <div>\n",
              "<style scoped>\n",
              "    .dataframe tbody tr th:only-of-type {\n",
              "        vertical-align: middle;\n",
              "    }\n",
              "\n",
              "    .dataframe tbody tr th {\n",
              "        vertical-align: top;\n",
              "    }\n",
              "\n",
              "    .dataframe thead th {\n",
              "        text-align: right;\n",
              "    }\n",
              "</style>\n",
              "<table border=\"1\" class=\"dataframe\">\n",
              "  <thead>\n",
              "    <tr style=\"text-align: right;\">\n",
              "      <th></th>\n",
              "      <th>date_time</th>\n",
              "      <th>comment/reply</th>\n",
              "      <th>url</th>\n",
              "    </tr>\n",
              "  </thead>\n",
              "  <tbody>\n",
              "    <tr>\n",
              "      <th>0</th>\n",
              "      <td>Jun-21-2023, 17:10:10</td>\n",
              "      <td>rainy days edition</td>\n",
              "      <td>http://boards.4chan.org/bant/thread/17913796/h...</td>\n",
              "    </tr>\n",
              "    <tr>\n",
              "      <th>1</th>\n",
              "      <td>Jun-21-2023, 17:13:52</td>\n",
              "      <td>are you guys excited for hazbin to drop</td>\n",
              "      <td>http://boards.4chan.org/bant/thread/17913796/h...</td>\n",
              "    </tr>\n",
              "    <tr>\n",
              "      <th>2</th>\n",
              "      <td>Jun-21-2023, 17:22:25</td>\n",
              "      <td>i do not watch american cartoons no more. they...</td>\n",
              "      <td>http://boards.4chan.org/bant/thread/17913796/h...</td>\n",
              "    </tr>\n",
              "    <tr>\n",
              "      <th>3</th>\n",
              "      <td>Jun-21-2023, 17:25:21</td>\n",
              "      <td>helluva rock</td>\n",
              "      <td>http://boards.4chan.org/bant/thread/17913796/h...</td>\n",
              "    </tr>\n",
              "    <tr>\n",
              "      <th>4</th>\n",
              "      <td>Jun-21-2023, 17:35:21</td>\n",
              "      <td>i'm curious, i know there's been a lot of buzz...</td>\n",
              "      <td>http://boards.4chan.org/bant/thread/17913796/h...</td>\n",
              "    </tr>\n",
              "  </tbody>\n",
              "</table>\n",
              "</div>\n",
              "      <button class=\"colab-df-convert\" onclick=\"convertToInteractive('df-01263820-542f-4965-963e-504a7da4a1ee')\"\n",
              "              title=\"Convert this dataframe to an interactive table.\"\n",
              "              style=\"display:none;\">\n",
              "        \n",
              "  <svg xmlns=\"http://www.w3.org/2000/svg\" height=\"24px\"viewBox=\"0 0 24 24\"\n",
              "       width=\"24px\">\n",
              "    <path d=\"M0 0h24v24H0V0z\" fill=\"none\"/>\n",
              "    <path d=\"M18.56 5.44l.94 2.06.94-2.06 2.06-.94-2.06-.94-.94-2.06-.94 2.06-2.06.94zm-11 1L8.5 8.5l.94-2.06 2.06-.94-2.06-.94L8.5 2.5l-.94 2.06-2.06.94zm10 10l.94 2.06.94-2.06 2.06-.94-2.06-.94-.94-2.06-.94 2.06-2.06.94z\"/><path d=\"M17.41 7.96l-1.37-1.37c-.4-.4-.92-.59-1.43-.59-.52 0-1.04.2-1.43.59L10.3 9.45l-7.72 7.72c-.78.78-.78 2.05 0 2.83L4 21.41c.39.39.9.59 1.41.59.51 0 1.02-.2 1.41-.59l7.78-7.78 2.81-2.81c.8-.78.8-2.07 0-2.86zM5.41 20L4 18.59l7.72-7.72 1.47 1.35L5.41 20z\"/>\n",
              "  </svg>\n",
              "      </button>\n",
              "      \n",
              "  <style>\n",
              "    .colab-df-container {\n",
              "      display:flex;\n",
              "      flex-wrap:wrap;\n",
              "      gap: 12px;\n",
              "    }\n",
              "\n",
              "    .colab-df-convert {\n",
              "      background-color: #E8F0FE;\n",
              "      border: none;\n",
              "      border-radius: 50%;\n",
              "      cursor: pointer;\n",
              "      display: none;\n",
              "      fill: #1967D2;\n",
              "      height: 32px;\n",
              "      padding: 0 0 0 0;\n",
              "      width: 32px;\n",
              "    }\n",
              "\n",
              "    .colab-df-convert:hover {\n",
              "      background-color: #E2EBFA;\n",
              "      box-shadow: 0px 1px 2px rgba(60, 64, 67, 0.3), 0px 1px 3px 1px rgba(60, 64, 67, 0.15);\n",
              "      fill: #174EA6;\n",
              "    }\n",
              "\n",
              "    [theme=dark] .colab-df-convert {\n",
              "      background-color: #3B4455;\n",
              "      fill: #D2E3FC;\n",
              "    }\n",
              "\n",
              "    [theme=dark] .colab-df-convert:hover {\n",
              "      background-color: #434B5C;\n",
              "      box-shadow: 0px 1px 3px 1px rgba(0, 0, 0, 0.15);\n",
              "      filter: drop-shadow(0px 1px 2px rgba(0, 0, 0, 0.3));\n",
              "      fill: #FFFFFF;\n",
              "    }\n",
              "  </style>\n",
              "\n",
              "      <script>\n",
              "        const buttonEl =\n",
              "          document.querySelector('#df-01263820-542f-4965-963e-504a7da4a1ee button.colab-df-convert');\n",
              "        buttonEl.style.display =\n",
              "          google.colab.kernel.accessAllowed ? 'block' : 'none';\n",
              "\n",
              "        async function convertToInteractive(key) {\n",
              "          const element = document.querySelector('#df-01263820-542f-4965-963e-504a7da4a1ee');\n",
              "          const dataTable =\n",
              "            await google.colab.kernel.invokeFunction('convertToInteractive',\n",
              "                                                     [key], {});\n",
              "          if (!dataTable) return;\n",
              "\n",
              "          const docLinkHtml = 'Like what you see? Visit the ' +\n",
              "            '<a target=\"_blank\" href=https://colab.research.google.com/notebooks/data_table.ipynb>data table notebook</a>'\n",
              "            + ' to learn more about interactive tables.';\n",
              "          element.innerHTML = '';\n",
              "          dataTable['output_type'] = 'display_data';\n",
              "          await google.colab.output.renderOutput(dataTable, element);\n",
              "          const docLink = document.createElement('div');\n",
              "          docLink.innerHTML = docLinkHtml;\n",
              "          element.appendChild(docLink);\n",
              "        }\n",
              "      </script>\n",
              "    </div>\n",
              "  </div>\n",
              "  "
            ],
            "text/plain": [
              "               date_time                                      comment/reply  \\\n",
              "0  Jun-21-2023, 17:10:10                                 rainy days edition   \n",
              "1  Jun-21-2023, 17:13:52            are you guys excited for hazbin to drop   \n",
              "2  Jun-21-2023, 17:22:25  i do not watch american cartoons no more. they...   \n",
              "3  Jun-21-2023, 17:25:21                                       helluva rock   \n",
              "4  Jun-21-2023, 17:35:21  i'm curious, i know there's been a lot of buzz...   \n",
              "\n",
              "                                                 url  \n",
              "0  http://boards.4chan.org/bant/thread/17913796/h...  \n",
              "1  http://boards.4chan.org/bant/thread/17913796/h...  \n",
              "2  http://boards.4chan.org/bant/thread/17913796/h...  \n",
              "3  http://boards.4chan.org/bant/thread/17913796/h...  \n",
              "4  http://boards.4chan.org/bant/thread/17913796/h...  "
            ]
          },
          "execution_count": 144,
          "metadata": {},
          "output_type": "execute_result"
        }
      ],
      "source": [
        "# Observemos un ejemplo\n",
        "datasets[0]['datos'].head()"
      ]
    },
    {
      "cell_type": "markdown",
      "metadata": {
        "id": "un1Gfb1wX0_M"
      },
      "source": [
        "Una vez preparados los datos, podemos guardar una copia de ellos para su futuro análisis."
      ]
    },
    {
      "cell_type": "code",
      "execution_count": 147,
      "metadata": {
        "id": "uTOhcKLz6wJ8"
      },
      "outputs": [],
      "source": [
        "ruta_guardado = \"./datos_limpios/4chan\"\n",
        "sufijo = \"_prepared.csv\"\n",
        "\n",
        "ruta_partes = ruta_guardado.split(\"/\")[1:] # Quitamos el punto\n",
        "\n",
        "try:\n",
        "\n",
        "  for in in range()\n",
        "    os.mkdir(ruta_guardado)\n",
        "except IOError:\n",
        "  pass\n",
        "\n",
        "for dict_ in datasets:\n",
        "  nombre = dict_['nombre']\n",
        "  dataset = dict_['datos']\n",
        "  ruta_guardado_full = f\"{ruta_guardado}/{nombre.removesuffix('.csv')}{sufijo}\"\n",
        "  dataset.to_csv(ruta_guardado_full)"
      ]
    },
    {
      "cell_type": "markdown",
      "metadata": {
        "id": "UlF01iyjZtO9"
      },
      "source": [
        "Además, podemos leer una serie de palabras relevantes de un archivo, para después obtener únicamente publicaciones que las contienen."
      ]
    },
    {
      "cell_type": "code",
      "execution_count": null,
      "metadata": {
        "id": "rrySYzLKZkqc"
      },
      "outputs": [],
      "source": []
    }
  ],
  "metadata": {
    "colab": {
      "provenance": []
    },
    "kernelspec": {
      "display_name": "Python 3",
      "name": "python3"
    },
    "language_info": {
      "name": "python",
      "version": "3.10.6"
    }
  },
  "nbformat": 4,
  "nbformat_minor": 0
}
