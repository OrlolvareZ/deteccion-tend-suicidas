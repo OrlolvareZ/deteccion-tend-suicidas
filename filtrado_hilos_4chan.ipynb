{
 "cells": [
  {
   "attachments": {},
   "cell_type": "markdown",
   "metadata": {},
   "source": [
    "# Filtrado de hilos de 4chan\n",
    "\n",
    "En esta sección se filtran los hilos de 4chan que contienen palabras o frases que se han encontrado en la literatura como indicadores de tendencias suicidas.\n",
    "\n",
    "La literatura consultada se puede consultar en la sección de [Referencias](./README.md#referencias) del archivo `README.md`."
   ]
  },
  {
   "cell_type": "code",
   "execution_count": null,
   "metadata": {
    "vscode": {
     "languageId": "r"
    }
   },
   "outputs": [],
   "source": [
    "# Cargamos las palabras que queremos filtrar\n"
   ]
  },
  {
   "cell_type": "code",
   "execution_count": 36,
   "metadata": {
    "vscode": {
     "languageId": "r"
    }
   },
   "outputs": [
    {
     "data": {
      "text/html": [
       "<style>\n",
       ".list-inline {list-style: none; margin:0; padding: 0}\n",
       ".list-inline>li {display: inline-block}\n",
       ".list-inline>li:not(:last-child)::after {content: \"\\00b7\"; padding: 0 .5ex}\n",
       "</style>\n",
       "<ol class=list-inline><li>'./datos/hilos_4chan/1436774 - No Subject'</li><li>'./datos/hilos_4chan/17913796 - Helluva_Thread'</li><li>'./datos/hilos_4chan/17918614 - _bant__AI_Waifus_General__121'</li><li>'./datos/hilos_4chan/17927427 - No Subject'</li><li>'./datos/hilos_4chan/17927993 - No Subject'</li><li>'./datos/hilos_4chan/17928132 - manlet_pajeets_stealing_Polish_women'</li></ol>\n"
      ],
      "text/latex": [
       "\\begin{enumerate*}\n",
       "\\item './datos/hilos\\_4chan/1436774 - No Subject'\n",
       "\\item './datos/hilos\\_4chan/17913796 - Helluva\\_Thread'\n",
       "\\item './datos/hilos\\_4chan/17918614 - \\_bant\\_\\_AI\\_Waifus\\_General\\_\\_121'\n",
       "\\item './datos/hilos\\_4chan/17927427 - No Subject'\n",
       "\\item './datos/hilos\\_4chan/17927993 - No Subject'\n",
       "\\item './datos/hilos\\_4chan/17928132 - manlet\\_pajeets\\_stealing\\_Polish\\_women'\n",
       "\\end{enumerate*}\n"
      ],
      "text/markdown": [
       "1. './datos/hilos_4chan/1436774 - No Subject'\n",
       "2. './datos/hilos_4chan/17913796 - Helluva_Thread'\n",
       "3. './datos/hilos_4chan/17918614 - _bant__AI_Waifus_General__121'\n",
       "4. './datos/hilos_4chan/17927427 - No Subject'\n",
       "5. './datos/hilos_4chan/17927993 - No Subject'\n",
       "6. './datos/hilos_4chan/17928132 - manlet_pajeets_stealing_Polish_women'\n",
       "\n",
       "\n"
      ],
      "text/plain": [
       "[1] \"./datos/hilos_4chan/1436774 - No Subject\"                           \n",
       "[2] \"./datos/hilos_4chan/17913796 - Helluva_Thread\"                      \n",
       "[3] \"./datos/hilos_4chan/17918614 - _bant__AI_Waifus_General__121\"       \n",
       "[4] \"./datos/hilos_4chan/17927427 - No Subject\"                          \n",
       "[5] \"./datos/hilos_4chan/17927993 - No Subject\"                          \n",
       "[6] \"./datos/hilos_4chan/17928132 - manlet_pajeets_stealing_Polish_women\""
      ]
     },
     "metadata": {},
     "output_type": "display_data"
    }
   ],
   "source": [
    "# Detectamos todos los archivos en la carpeta de datos. Esta contiene la subcarpeta hilos_4_chan, que a su vez tiene \n",
    "# una carpeta por cada hilo de 4chan que hemos descargado. Cada una de estas carpetas contiene un archivo .csv con\n",
    "# los comentarios del hilo.\n",
    "\n",
    "# Se busca desde #datos\"\n",
    "\n",
    "directorios = c()\n",
    "\n",
    "for (dir in dir(\"./datos/hilos_4chan\")) {\n",
    "    \n",
    "    directorios <- c(directorios, paste(\"./datos/hilos_4chan/\", dir, sep=\"\"))\n",
    "}\n",
    "\n",
    "head(directorios)"
   ]
  },
  {
   "cell_type": "code",
   "execution_count": 46,
   "metadata": {
    "vscode": {
     "languageId": "r"
    }
   },
   "outputs": [],
   "source": [
    "# Leemos los archivos a partir de cada directorio\n",
    "\n",
    "archivos = c()\n",
    "\n",
    "for (dir in directorios) {\n",
    "    \n",
    "    # Encontrar el archivo .csv en el directorio\n",
    "    archivo <- list.files(dir, pattern=\"*.csv\")\n",
    "    directorio_archivo <- paste(dir, archivo, sep=\"/\")\n",
    "\n",
    "    # Leer el archivo y agregarlo a la lista\n",
    "    archivo_leido <- read.csv(file=directorio_archivo, sep=\",\", header=TRUE, quote = \"\\\"\")\n",
    "    archivos <- c(archivos, archivo_leido)\n",
    "}"
   ]
  },
  {
   "cell_type": "code",
   "execution_count": null,
   "metadata": {
    "vscode": {
     "languageId": "r"
    }
   },
   "outputs": [],
   "source": []
  }
 ],
 "metadata": {
  "kernelspec": {
   "display_name": "R",
   "language": "R",
   "name": "ir"
  },
  "language_info": {
   "codemirror_mode": "r",
   "file_extension": ".r",
   "mimetype": "text/x-r-source",
   "name": "R",
   "pygments_lexer": "r",
   "version": "4.2.2"
  },
  "orig_nbformat": 4
 },
 "nbformat": 4,
 "nbformat_minor": 2
}
