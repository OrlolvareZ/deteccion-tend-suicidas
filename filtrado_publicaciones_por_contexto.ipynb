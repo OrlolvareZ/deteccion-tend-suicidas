{
 "cells": [
  {
   "cell_type": "code",
   "execution_count": null,
   "metadata": {},
   "outputs": [],
   "source": [
    "\"\"\"\n",
    "    Para el caso de las publicaciones con la palabra \"colgarme\",\n",
    "    se tienen casos en el que la palabra es usada con intenciones autolesivas, como los siguientes:\n",
    "\n",
    "    * OAA me hace dar ganas de colgarme, uhhh si. https://t.co/3vc7ELNvtH\n",
    "    * *procedo a colgarme del abanico*\n",
    "    * No me siento preparada para colgarme hoy :-)\n",
    "    * Tengo más ganas de colgarme de los huevos en un anzuelo para pescar tiburones que de seguir cursando esta materia\n",
    "    * Pero antes de colgarme debo oir el álbum de Taylor por qué la nena anda al tope\n",
    "    * Ese filtro me quitó las ganas de colgarme 💗. https://t.co/LtvKc0cKsI\n",
    "\n",
    "    No obstante, el propósito de la palabra en una oración no siempre es el mismo.\n",
    "\n",
    "    * Por colgarme mirando Superman me olvidé de cargar el celular y estoy llegando tarde al colegio :(\n",
    "        -> Donde \"colgarme\" es usado como \"distraerme\"\n",
    "    * CHICAS YO BAILO POLE DANCE NATURALMENTE SIN ACADEMIAS PORQUE FROTARME Y COLGARME DEL CAÑO ES MI TALENTO NATO\n",
    "        -> Donde \"colgarme\" es usado como \"sujetarme\"\n",
    "        * Nótese que hay objetos de los que puede sujetarse, como un árbol, pero que también es candidato a ser usado\n",
    "            para colgarse del cuello. Todas aquellas entidades de las que se pueda inferir un potencial uso nocivo se\n",
    "            considerarán como alarmantes.\n",
    "    * Una mina con quien colgarme toda la noche escuchando rock\n",
    "        -> Donde \"colgarme\" es usado como \"pasar tiempo\"\n",
    "    * espero no colgarme e ir al colegio hoy\n",
    "        -> Donde \"colgarme\" es usado como \"pasarme de largo\"\n",
    "    etc...\n",
    "\n",
    "    Se espera únicamente conservar los tweets englobados en la primera categoría.\n",
    "\n",
    "    Del modelo de completición de OpenAI, se espera inferir el contexto de la palabra y que este devuelva un 0, si es\n",
    "    que el contexto no es uno alarmante, o un 1, en caso contrario.\n",
    "\"\"\""
   ]
  }
 ],
 "metadata": {
  "language_info": {
   "name": "python"
  },
  "orig_nbformat": 4
 },
 "nbformat": 4,
 "nbformat_minor": 2
}
