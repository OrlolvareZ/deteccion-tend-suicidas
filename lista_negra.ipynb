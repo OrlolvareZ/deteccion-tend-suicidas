{
 "cells": [
  {
   "cell_type": "markdown",
   "metadata": {},
   "source": [
    "## Cuaderno de creación de lista negra de usuarios\n",
    "\n",
    "El código definido a continuación tiene como objetivo analizar las publicaciones de la carpeta [`datos`](/datos/), y crear una lista de usuarios que no deberían ser considerados en el análisis de datos.\n",
    "\n",
    "Se consideraran para esta lista usuarios que sean autores de: \n",
    "\n",
    "* Publicaciones hechas para fomentar el cuidado de la salud mental\n",
    "    * Si bien se pueden encontrar palabras clave que indiquen tendencias suicidas, no necesariamente reflejan problemas mentales en quien las publica\n",
    "* Publicaciones repetidas (spam o bots)"
   ]
  },
  {
   "cell_type": "markdown",
   "metadata": {},
   "source": [
    "Para ejecutar las siguientes instrucciones, se empleará el lenguaje de R.\n",
    "\n",
    "Será de utilidad en el análisis, además, el paquete `tm`, que permite realizar análisis sobre texto."
   ]
  },
  {
   "cell_type": "code",
   "execution_count": 1,
   "metadata": {
    "vscode": {
     "languageId": "r"
    }
   },
   "outputs": [
    {
     "name": "stderr",
     "output_type": "stream",
     "text": [
      "also installing the dependencies 'rlang', 'tibble', 'vctrs'\n",
      "\n",
      "\n"
     ]
    },
    {
     "ename": "",
     "evalue": "",
     "output_type": "error",
     "traceback": [
      "\u001b[1;31mCanceled future for execute_request message before replies were done"
     ]
    },
    {
     "ename": "",
     "evalue": "",
     "output_type": "error",
     "traceback": [
      "\u001b[1;31mEl Kernel se bloqueó al ejecutar código en la celda actual o en una celda anterior. Revise el código de las celdas para identificar una posible causa del error. Haga clic <a href='https://aka.ms/vscodeJupyterKernelCrash'>aquí</a> para obtener más información. Vea el [registro] de Jupyter (command:jupyter.viewOutput) para obtener más detalles."
     ]
    }
   ],
   "source": [
    "# Instalar paquetes necesarios\n",
    "install.packages(\n",
    "    c(\n",
    "        \"tm\",\n",
    "        \"dplyr\"\n",
    "    ),\n",
    "    repos = \"http://cran.us.r-project.org\"\n",
    ")"
   ]
  },
  {
   "cell_type": "code",
   "execution_count": 1,
   "metadata": {
    "vscode": {
     "languageId": "r"
    }
   },
   "outputs": [
    {
     "name": "stderr",
     "output_type": "stream",
     "text": [
      "Warning message:\n",
      "\"package 'tm' was built under R version 4.2.3\"\n",
      "Loading required package: NLP\n",
      "\n",
      "\n",
      "Attaching package: 'dplyr'\n",
      "\n",
      "\n",
      "The following objects are masked from 'package:stats':\n",
      "\n",
      "    filter, lag\n",
      "\n",
      "\n",
      "The following objects are masked from 'package:base':\n",
      "\n",
      "    intersect, setdiff, setequal, union\n",
      "\n",
      "\n"
     ]
    }
   ],
   "source": [
    "# Se cargan las librerías\n",
    "library('tm')\n",
    "library('dplyr')"
   ]
  },
  {
   "cell_type": "code",
   "execution_count": 2,
   "metadata": {
    "vscode": {
     "languageId": "r"
    }
   },
   "outputs": [],
   "source": [
    "# Se carga el archivo de texto\n",
    "datos_ahorcarme <- read.csv(\"./datos/ahorcarme_complete.csv\")\n",
    "datos_colgarme <- read.csv(\"./datos/colgarme_complete.csv\")"
   ]
  },
  {
   "cell_type": "code",
   "execution_count": 4,
   "metadata": {
    "vscode": {
     "languageId": "r"
    }
   },
   "outputs": [
    {
     "data": {
      "text/html": [
       "<table class=\"dataframe\">\n",
       "<caption>A data.frame: 6 × 6</caption>\n",
       "<thead>\n",
       "\t<tr><th></th><th scope=col>User</th><th scope=col>Content</th><th scope=col>Date</th><th scope=col>URL</th><th scope=col>Coordinates</th><th scope=col>Place</th></tr>\n",
       "\t<tr><th></th><th scope=col>&lt;chr&gt;</th><th scope=col>&lt;chr&gt;</th><th scope=col>&lt;chr&gt;</th><th scope=col>&lt;chr&gt;</th><th scope=col>&lt;chr&gt;</th><th scope=col>&lt;chr&gt;</th></tr>\n",
       "</thead>\n",
       "<tbody>\n",
       "\t<tr><th scope=row>1</th><td>nadaespecial__</td><td>Con la misma soga puedo ahorcarme o saltar                                                                                            </td><td>2014-12-30 22:55:34</td><td>https://twitter.com/nadaespecial__/status/550062666434506752</td><td>NA</td><td>NA</td></tr>\n",
       "\t<tr><th scope=row>2</th><td>LooreenaaN    </td><td>\"@SoyBuenCatre: Debí ahorcarme con el cordón umbilical.\"                                                                              </td><td>2014-12-30 22:04:21</td><td>https://twitter.com/LooreenaaN/status/550049781054439424    </td><td>NA</td><td>NA</td></tr>\n",
       "\t<tr><th scope=row>3</th><td>errorbizarro_ </td><td>Estoy harto de ser pobre, asique ayer intente ahorcarme, pero en el intento el techo se me cayó encima, osea que también soy gordo. :(</td><td>2014-12-30 21:57:08</td><td>https://twitter.com/errorbizarro_/status/550047965302513664 </td><td>NA</td><td>NA</td></tr>\n",
       "\t<tr><th scope=row>4</th><td>Straatoo      </td><td>Hay un viejo culiao acá que tiene un humor culiao tan ahueonao, que me dan ganas de tirarme ahorcarme de una wea                      </td><td>2014-12-30 21:29:24</td><td>https://twitter.com/Straatoo/status/550040983464083457      </td><td>NA</td><td>NA</td></tr>\n",
       "\t<tr><th scope=row>5</th><td>yadizrh       </td><td>@emilioelde yo sería mas original..... Soy capaz de ahorcarme con un fideo cosido si no me contestas guapetón. I love you!!! ^_^      </td><td>2014-12-30 19:27:45</td><td>https://twitter.com/yadizrh/status/550010368035405826       </td><td>NA</td><td>NA</td></tr>\n",
       "\t<tr><th scope=row>6</th><td>AlexanndraMn  </td><td>Tengo el pelo tan largo que podría ahorcarme con él.                                                                                  </td><td>2014-12-30 19:23:19</td><td>https://twitter.com/AlexanndraMn/status/550009254745083905  </td><td>NA</td><td>NA</td></tr>\n",
       "</tbody>\n",
       "</table>\n"
      ],
      "text/latex": [
       "A data.frame: 6 × 6\n",
       "\\begin{tabular}{r|llllll}\n",
       "  & User & Content & Date & URL & Coordinates & Place\\\\\n",
       "  & <chr> & <chr> & <chr> & <chr> & <chr> & <chr>\\\\\n",
       "\\hline\n",
       "\t1 & nadaespecial\\_\\_ & Con la misma soga puedo ahorcarme o saltar                                                                                             & 2014-12-30 22:55:34 & https://twitter.com/nadaespecial\\_\\_/status/550062666434506752 & NA & NA\\\\\n",
       "\t2 & LooreenaaN     & \"@SoyBuenCatre: Debí ahorcarme con el cordón umbilical.\"                                                                               & 2014-12-30 22:04:21 & https://twitter.com/LooreenaaN/status/550049781054439424     & NA & NA\\\\\n",
       "\t3 & errorbizarro\\_  & Estoy harto de ser pobre, asique ayer intente ahorcarme, pero en el intento el techo se me cayó encima, osea que también soy gordo. :( & 2014-12-30 21:57:08 & https://twitter.com/errorbizarro\\_/status/550047965302513664  & NA & NA\\\\\n",
       "\t4 & Straatoo       & Hay un viejo culiao acá que tiene un humor culiao tan ahueonao, que me dan ganas de tirarme ahorcarme de una wea                       & 2014-12-30 21:29:24 & https://twitter.com/Straatoo/status/550040983464083457       & NA & NA\\\\\n",
       "\t5 & yadizrh        & @emilioelde yo sería mas original..... Soy capaz de ahorcarme con un fideo cosido si no me contestas guapetón. I love you!!! \\textasciicircum{}\\_\\textasciicircum{}       & 2014-12-30 19:27:45 & https://twitter.com/yadizrh/status/550010368035405826        & NA & NA\\\\\n",
       "\t6 & AlexanndraMn   & Tengo el pelo tan largo que podría ahorcarme con él.                                                                                   & 2014-12-30 19:23:19 & https://twitter.com/AlexanndraMn/status/550009254745083905   & NA & NA\\\\\n",
       "\\end{tabular}\n"
      ],
      "text/markdown": [
       "\n",
       "A data.frame: 6 × 6\n",
       "\n",
       "| <!--/--> | User &lt;chr&gt; | Content &lt;chr&gt; | Date &lt;chr&gt; | URL &lt;chr&gt; | Coordinates &lt;chr&gt; | Place &lt;chr&gt; |\n",
       "|---|---|---|---|---|---|---|\n",
       "| 1 | nadaespecial__ | Con la misma soga puedo ahorcarme o saltar                                                                                             | 2014-12-30 22:55:34 | https://twitter.com/nadaespecial__/status/550062666434506752 | NA | NA |\n",
       "| 2 | LooreenaaN     | \"@SoyBuenCatre: Debí ahorcarme con el cordón umbilical.\"                                                                               | 2014-12-30 22:04:21 | https://twitter.com/LooreenaaN/status/550049781054439424     | NA | NA |\n",
       "| 3 | errorbizarro_  | Estoy harto de ser pobre, asique ayer intente ahorcarme, pero en el intento el techo se me cayó encima, osea que también soy gordo. :( | 2014-12-30 21:57:08 | https://twitter.com/errorbizarro_/status/550047965302513664  | NA | NA |\n",
       "| 4 | Straatoo       | Hay un viejo culiao acá que tiene un humor culiao tan ahueonao, que me dan ganas de tirarme ahorcarme de una wea                       | 2014-12-30 21:29:24 | https://twitter.com/Straatoo/status/550040983464083457       | NA | NA |\n",
       "| 5 | yadizrh        | @emilioelde yo sería mas original..... Soy capaz de ahorcarme con un fideo cosido si no me contestas guapetón. I love you!!! ^_^       | 2014-12-30 19:27:45 | https://twitter.com/yadizrh/status/550010368035405826        | NA | NA |\n",
       "| 6 | AlexanndraMn   | Tengo el pelo tan largo que podría ahorcarme con él.                                                                                   | 2014-12-30 19:23:19 | https://twitter.com/AlexanndraMn/status/550009254745083905   | NA | NA |\n",
       "\n"
      ],
      "text/plain": [
       "  User          \n",
       "1 nadaespecial__\n",
       "2 LooreenaaN    \n",
       "3 errorbizarro_ \n",
       "4 Straatoo      \n",
       "5 yadizrh       \n",
       "6 AlexanndraMn  \n",
       "  Content                                                                                                                               \n",
       "1 Con la misma soga puedo ahorcarme o saltar                                                                                            \n",
       "2 \"@SoyBuenCatre: Debí ahorcarme con el cordón umbilical.\"                                                                              \n",
       "3 Estoy harto de ser pobre, asique ayer intente ahorcarme, pero en el intento el techo se me cayó encima, osea que también soy gordo. :(\n",
       "4 Hay un viejo culiao acá que tiene un humor culiao tan ahueonao, que me dan ganas de tirarme ahorcarme de una wea                      \n",
       "5 @emilioelde yo sería mas original..... Soy capaz de ahorcarme con un fideo cosido si no me contestas guapetón. I love you!!! ^_^      \n",
       "6 Tengo el pelo tan largo que podría ahorcarme con él.                                                                                  \n",
       "  Date               \n",
       "1 2014-12-30 22:55:34\n",
       "2 2014-12-30 22:04:21\n",
       "3 2014-12-30 21:57:08\n",
       "4 2014-12-30 21:29:24\n",
       "5 2014-12-30 19:27:45\n",
       "6 2014-12-30 19:23:19\n",
       "  URL                                                          Coordinates\n",
       "1 https://twitter.com/nadaespecial__/status/550062666434506752 NA         \n",
       "2 https://twitter.com/LooreenaaN/status/550049781054439424     NA         \n",
       "3 https://twitter.com/errorbizarro_/status/550047965302513664  NA         \n",
       "4 https://twitter.com/Straatoo/status/550040983464083457       NA         \n",
       "5 https://twitter.com/yadizrh/status/550010368035405826        NA         \n",
       "6 https://twitter.com/AlexanndraMn/status/550009254745083905   NA         \n",
       "  Place\n",
       "1 NA   \n",
       "2 NA   \n",
       "3 NA   \n",
       "4 NA   \n",
       "5 NA   \n",
       "6 NA   "
      ]
     },
     "metadata": {},
     "output_type": "display_data"
    }
   ],
   "source": [
    "head(datos_ahorcarme)"
   ]
  },
  {
   "cell_type": "code",
   "execution_count": 3,
   "metadata": {
    "vscode": {
     "languageId": "r"
    }
   },
   "outputs": [],
   "source": [
    "# Obtenemos del dataframe las que tengan usuarios que aparezcan más de 5 veces\n",
    "\n",
    "# Ahorcarme\n",
    "datos_ahorcarme <- datos_ahorcarme %>%\n",
    "    group_by(User) %>%\n",
    "    filter(n() > 5)\n",
    "\n",
    "# Colgarme\n",
    "datos_colgarme <- datos_colgarme %>%\n",
    "    group_by(User) %>%\n",
    "    filter(n() > 5)"
   ]
  },
  {
   "cell_type": "code",
   "execution_count": 4,
   "metadata": {
    "vscode": {
     "languageId": "r"
    }
   },
   "outputs": [],
   "source": [
    "# Creamos la lista de los usuarios que aparecen más de 5 veces\n",
    "\n",
    "# Ahorcarme\n",
    "usuarios_ahorcarme <- unique(datos_ahorcarme$User)\n",
    "\n",
    "# Colgarme\n",
    "usuarios_colgarme <- unique(datos_colgarme$User)"
   ]
  },
  {
   "cell_type": "markdown",
   "metadata": {},
   "source": [
    "Ahora, podemos revisar manualmente los tweets de los usuarios que colocamos en la lista negra bajo este criterio, para determinar si realmente sus publicaciones son despreciables para el análisis."
   ]
  },
  {
   "cell_type": "code",
   "execution_count": 5,
   "metadata": {
    "vscode": {
     "languageId": "r"
    }
   },
   "outputs": [],
   "source": [
    "# Obtenemos los tweets de estos usuarios, para revisarlos manualmente\n",
    "\n",
    "# Ahorcarme\n",
    "tweets_ahorcarme <- datos_ahorcarme %>%\n",
    "    filter(User %in% usuarios_ahorcarme)\n",
    "    # %>%\n",
    "    # select(User, Content)\n",
    "\n",
    "# Colgarme\n",
    "tweets_colgarme <- datos_colgarme %>%\n",
    "    filter(User %in% usuarios_colgarme)\n",
    "    # %>%\n",
    "    # select(User, Content)"
   ]
  },
  {
   "cell_type": "code",
   "execution_count": null,
   "metadata": {
    "vscode": {
     "languageId": "r"
    }
   },
   "outputs": [],
   "source": [
    "# Guardamos los tweets en un archivo\n",
    "\n",
    "# Ahorcarme\n",
    "write.table(\n",
    "    tweets_ahorcarme,\n",
    "    file = \"./datos_limpios/tweets_ahorcarme.csv\",\n",
    "    row.names = FALSE,\n",
    "    col.names = TRUE,\n",
    "    quote = TRUE,\n",
    "    sep = \",\"\n",
    ")\n",
    "\n",
    "# Colgarme\n",
    "write.table(\n",
    "    tweets_colgarme,\n",
    "    file = \"./datos_limpios/tweets_colgarme.csv\",\n",
    "    row.names = FALSE,\n",
    "    col.names = TRUE,\n",
    "    quote = TRUE,\n",
    "    sep = \",\"\n",
    ")\n"
   ]
  },
  {
   "cell_type": "markdown",
   "metadata": {},
   "source": [
    "Luego de revisar los tweets, encontré un fragmento que hace alusión a una connotación sexual de la palabra concurrente. Por lo tanto, aquellos usuarios cuyas publicaciones que contienen la palabra \"ahorcarme\" serán añadidos a la lista negra.\n",
    "\n",
    "Es importante considerar que, si bien emplean la palabra bajo un concepto sexual, puede no ser la única forma en la que la usan; de hecho, logré encontrar varios perfiles en los que hacen un uso sexual y violento del verbo. De tal manera, de este grupo de usuarios que tergiversan de esta forma la acción, únicamente se seleccionarán aquellos que emplean la palabra exclusivamente en un contexto sexual, es decir, en todos los tweets que les fueron recolectados que les pertenecen."
   ]
  },
  {
   "cell_type": "code",
   "execution_count": 6,
   "metadata": {
    "vscode": {
     "languageId": "r"
    }
   },
   "outputs": [],
   "source": [
    "# Función que obtiene los tweets de un usuario y determina si todos contienen un texto clave\n",
    "\n",
    "tweetsSonRepetitivos <- function(usuario, textoClave, dataset) {\n",
    "    # Obtenemos los tweets del usuario\n",
    "    tweets <- dataset %>%\n",
    "        filter(User %in% usuario) %>%\n",
    "        select(Content)\n",
    "    \n",
    "    # Revisamos si todos los tweets contienen el texto clave\n",
    "    todosContienen <- TRUE\n",
    "    for (tweet in tweets$Content) {\n",
    "        if (!grepl(textoClave, tweet)) {\n",
    "            todosContienen <- FALSE\n",
    "            break\n",
    "        }\n",
    "    }\n",
    "    \n",
    "    return (todosContienen)\n",
    "}"
   ]
  },
  {
   "cell_type": "code",
   "execution_count": 7,
   "metadata": {
    "vscode": {
     "languageId": "r"
    }
   },
   "outputs": [],
   "source": [
    "# Fragmento\n",
    "frag_frase = \"ahorcame dios ahorcame hasta el punto de que tus manos\"\n",
    "\n",
    "# Localizar los tweets que contengan la frase, y de ellos tomar los usuarios, para agregarlos a los que ya\n",
    "# estaban listados, siempre y cuando todos los tweets del usuario contengan la frase\n",
    "\n",
    "# Ahorcarme\n",
    "usuarios_ahorcarme <- tweets_ahorcarme %>%\n",
    "    select(User) %>%\n",
    "    unique()\n",
    "\n",
    "usuarios_frag_ahorcarme <- c()"
   ]
  },
  {
   "cell_type": "code",
   "execution_count": 9,
   "metadata": {
    "vscode": {
     "languageId": "r"
    }
   },
   "outputs": [
    {
     "data": {
      "text/html": [
       "<table class=\"dataframe\">\n",
       "<caption>A grouped_df: 6 × 6</caption>\n",
       "<thead>\n",
       "\t<tr><th scope=col>User</th><th scope=col>Content</th><th scope=col>Date</th><th scope=col>URL</th><th scope=col>Coordinates</th><th scope=col>Place</th></tr>\n",
       "\t<tr><th scope=col>&lt;chr&gt;</th><th scope=col>&lt;chr&gt;</th><th scope=col>&lt;chr&gt;</th><th scope=col>&lt;chr&gt;</th><th scope=col>&lt;chr&gt;</th><th scope=col>&lt;chr&gt;</th></tr>\n",
       "</thead>\n",
       "<tbody>\n",
       "\t<tr><td>soiiviic     </td><td>@frandl_ es una poronga me da ganas de ahorcarme con el cable de la tele                                                                    </td><td>2014-12-30 06:27:27</td><td>https://twitter.com/soiiviic/status/549814000750702593     </td><td>NA</td><td>NA</td></tr>\n",
       "\t<tr><td>gatoacostadou</td><td>Yo bastante tengo con no ahorcarme con el cable del móvil cuando lo enchufo detrás de la cama, como para tener más de una cuenta en Twitter.</td><td>2014-12-29 23:46:38</td><td>https://twitter.com/gatoacostadou/status/549713130868465664</td><td>NA</td><td>NA</td></tr>\n",
       "\t<tr><td>Lucasnun_    </td><td>Menos mal que hoy se juega porque esta fecha provoca que quiera ahorcarme                                                                   </td><td>2014-12-28 17:58:00</td><td>https://twitter.com/Lucasnun_/status/549263006409195520    </td><td>NA</td><td>NA</td></tr>\n",
       "\t<tr><td>cigarettommy </td><td>cada vez falta menos para el cumpleaños de zayn y quiero ahorcarme                                                                          </td><td>2014-12-27 05:56:40</td><td>https://twitter.com/cigarettommy/status/548719091817918466 </td><td>NA</td><td>NA</td></tr>\n",
       "\t<tr><td>lwtironic    </td><td>@Z4YNSHADY y hoy me entere que viven juntos queria ahorcarme entiendes lo dificil que es mi vida                                            </td><td>2014-12-26 09:40:05</td><td>https://twitter.com/lwtironic/status/548412925967609857    </td><td>NA</td><td>NA</td></tr>\n",
       "\t<tr><td>CyanideMoon  </td><td>estoy superfrustrada dadme una sola razón para no ahorcarme                                                                                 </td><td>2014-12-25 12:55:53</td><td>https://twitter.com/CyanideMoon/status/548099813502623744  </td><td>NA</td><td>NA</td></tr>\n",
       "</tbody>\n",
       "</table>\n"
      ],
      "text/latex": [
       "A grouped\\_df: 6 × 6\n",
       "\\begin{tabular}{llllll}\n",
       " User & Content & Date & URL & Coordinates & Place\\\\\n",
       " <chr> & <chr> & <chr> & <chr> & <chr> & <chr>\\\\\n",
       "\\hline\n",
       "\t soiiviic      & @frandl\\_ es una poronga me da ganas de ahorcarme con el cable de la tele                                                                     & 2014-12-30 06:27:27 & https://twitter.com/soiiviic/status/549814000750702593      & NA & NA\\\\\n",
       "\t gatoacostadou & Yo bastante tengo con no ahorcarme con el cable del móvil cuando lo enchufo detrás de la cama, como para tener más de una cuenta en Twitter. & 2014-12-29 23:46:38 & https://twitter.com/gatoacostadou/status/549713130868465664 & NA & NA\\\\\n",
       "\t Lucasnun\\_     & Menos mal que hoy se juega porque esta fecha provoca que quiera ahorcarme                                                                    & 2014-12-28 17:58:00 & https://twitter.com/Lucasnun\\_/status/549263006409195520     & NA & NA\\\\\n",
       "\t cigarettommy  & cada vez falta menos para el cumpleaños de zayn y quiero ahorcarme                                                                           & 2014-12-27 05:56:40 & https://twitter.com/cigarettommy/status/548719091817918466  & NA & NA\\\\\n",
       "\t lwtironic     & @Z4YNSHADY y hoy me entere que viven juntos queria ahorcarme entiendes lo dificil que es mi vida                                             & 2014-12-26 09:40:05 & https://twitter.com/lwtironic/status/548412925967609857     & NA & NA\\\\\n",
       "\t CyanideMoon   & estoy superfrustrada dadme una sola razón para no ahorcarme                                                                                  & 2014-12-25 12:55:53 & https://twitter.com/CyanideMoon/status/548099813502623744   & NA & NA\\\\\n",
       "\\end{tabular}\n"
      ],
      "text/markdown": [
       "\n",
       "A grouped_df: 6 × 6\n",
       "\n",
       "| User &lt;chr&gt; | Content &lt;chr&gt; | Date &lt;chr&gt; | URL &lt;chr&gt; | Coordinates &lt;chr&gt; | Place &lt;chr&gt; |\n",
       "|---|---|---|---|---|---|\n",
       "| soiiviic      | @frandl_ es una poronga me da ganas de ahorcarme con el cable de la tele                                                                     | 2014-12-30 06:27:27 | https://twitter.com/soiiviic/status/549814000750702593      | NA | NA |\n",
       "| gatoacostadou | Yo bastante tengo con no ahorcarme con el cable del móvil cuando lo enchufo detrás de la cama, como para tener más de una cuenta en Twitter. | 2014-12-29 23:46:38 | https://twitter.com/gatoacostadou/status/549713130868465664 | NA | NA |\n",
       "| Lucasnun_     | Menos mal que hoy se juega porque esta fecha provoca que quiera ahorcarme                                                                    | 2014-12-28 17:58:00 | https://twitter.com/Lucasnun_/status/549263006409195520     | NA | NA |\n",
       "| cigarettommy  | cada vez falta menos para el cumpleaños de zayn y quiero ahorcarme                                                                           | 2014-12-27 05:56:40 | https://twitter.com/cigarettommy/status/548719091817918466  | NA | NA |\n",
       "| lwtironic     | @Z4YNSHADY y hoy me entere que viven juntos queria ahorcarme entiendes lo dificil que es mi vida                                             | 2014-12-26 09:40:05 | https://twitter.com/lwtironic/status/548412925967609857     | NA | NA |\n",
       "| CyanideMoon   | estoy superfrustrada dadme una sola razón para no ahorcarme                                                                                  | 2014-12-25 12:55:53 | https://twitter.com/CyanideMoon/status/548099813502623744   | NA | NA |\n",
       "\n"
      ],
      "text/plain": [
       "  User         \n",
       "1 soiiviic     \n",
       "2 gatoacostadou\n",
       "3 Lucasnun_    \n",
       "4 cigarettommy \n",
       "5 lwtironic    \n",
       "6 CyanideMoon  \n",
       "  Content                                                                                                                                     \n",
       "1 @frandl_ es una poronga me da ganas de ahorcarme con el cable de la tele                                                                    \n",
       "2 Yo bastante tengo con no ahorcarme con el cable del móvil cuando lo enchufo detrás de la cama, como para tener más de una cuenta en Twitter.\n",
       "3 Menos mal que hoy se juega porque esta fecha provoca que quiera ahorcarme                                                                   \n",
       "4 cada vez falta menos para el cumpleaños de zayn y quiero ahorcarme                                                                          \n",
       "5 @Z4YNSHADY y hoy me entere que viven juntos queria ahorcarme entiendes lo dificil que es mi vida                                            \n",
       "6 estoy superfrustrada dadme una sola razón para no ahorcarme                                                                                 \n",
       "  Date               \n",
       "1 2014-12-30 06:27:27\n",
       "2 2014-12-29 23:46:38\n",
       "3 2014-12-28 17:58:00\n",
       "4 2014-12-27 05:56:40\n",
       "5 2014-12-26 09:40:05\n",
       "6 2014-12-25 12:55:53\n",
       "  URL                                                         Coordinates Place\n",
       "1 https://twitter.com/soiiviic/status/549814000750702593      NA          NA   \n",
       "2 https://twitter.com/gatoacostadou/status/549713130868465664 NA          NA   \n",
       "3 https://twitter.com/Lucasnun_/status/549263006409195520     NA          NA   \n",
       "4 https://twitter.com/cigarettommy/status/548719091817918466  NA          NA   \n",
       "5 https://twitter.com/lwtironic/status/548412925967609857     NA          NA   \n",
       "6 https://twitter.com/CyanideMoon/status/548099813502623744   NA          NA   "
      ]
     },
     "metadata": {},
     "output_type": "display_data"
    }
   ],
   "source": [
    "head(tweets_ahorcarme)"
   ]
  },
  {
   "cell_type": "code",
   "execution_count": null,
   "metadata": {
    "vscode": {
     "languageId": "r"
    }
   },
   "outputs": [
    {
     "name": "stderr",
     "output_type": "stream",
     "text": [
      "\u001b[1m\u001b[22mAdding missing grouping variables: `User`\n",
      "\u001b[1m\u001b[22mAdding missing grouping variables: `User`\n",
      "\u001b[1m\u001b[22mAdding missing grouping variables: `User`\n",
      "\u001b[1m\u001b[22mAdding missing grouping variables: `User`\n",
      "\u001b[1m\u001b[22mAdding missing grouping variables: `User`\n",
      "\u001b[1m\u001b[22mAdding missing grouping variables: `User`\n",
      "\u001b[1m\u001b[22mAdding missing grouping variables: `User`\n",
      "\u001b[1m\u001b[22mAdding missing grouping variables: `User`\n",
      "\u001b[1m\u001b[22mAdding missing grouping variables: `User`\n",
      "\u001b[1m\u001b[22mAdding missing grouping variables: `User`\n",
      "\u001b[1m\u001b[22mAdding missing grouping variables: `User`\n",
      "\u001b[1m\u001b[22mAdding missing grouping variables: `User`\n",
      "\u001b[1m\u001b[22mAdding missing grouping variables: `User`\n",
      "\u001b[1m\u001b[22mAdding missing grouping variables: `User`\n",
      "\u001b[1m\u001b[22mAdding missing grouping variables: `User`\n",
      "\u001b[1m\u001b[22mAdding missing grouping variables: `User`\n",
      "\u001b[1m\u001b[22mAdding missing grouping variables: `User`\n",
      "\u001b[1m\u001b[22mAdding missing grouping variables: `User`\n",
      "\u001b[1m\u001b[22mAdding missing grouping variables: `User`\n",
      "\u001b[1m\u001b[22mAdding missing grouping variables: `User`\n",
      "\u001b[1m\u001b[22mAdding missing grouping variables: `User`\n",
      "\u001b[1m\u001b[22mAdding missing grouping variables: `User`\n",
      "\u001b[1m\u001b[22mAdding missing grouping variables: `User`\n",
      "\u001b[1m\u001b[22mAdding missing grouping variables: `User`\n",
      "\u001b[1m\u001b[22mAdding missing grouping variables: `User`\n",
      "\u001b[1m\u001b[22mAdding missing grouping variables: `User`\n",
      "\u001b[1m\u001b[22mAdding missing grouping variables: `User`\n",
      "\u001b[1m\u001b[22mAdding missing grouping variables: `User`\n",
      "\u001b[1m\u001b[22mAdding missing grouping variables: `User`\n",
      "\u001b[1m\u001b[22mAdding missing grouping variables: `User`\n",
      "\u001b[1m\u001b[22mAdding missing grouping variables: `User`\n",
      "\u001b[1m\u001b[22mAdding missing grouping variables: `User`\n",
      "\u001b[1m\u001b[22mAdding missing grouping variables: `User`\n",
      "\u001b[1m\u001b[22mAdding missing grouping variables: `User`\n",
      "\u001b[1m\u001b[22mAdding missing grouping variables: `User`\n",
      "\u001b[1m\u001b[22mAdding missing grouping variables: `User`\n",
      "\u001b[1m\u001b[22mAdding missing grouping variables: `User`\n",
      "\u001b[1m\u001b[22mAdding missing grouping variables: `User`\n",
      "\u001b[1m\u001b[22mAdding missing grouping variables: `User`\n",
      "\u001b[1m\u001b[22mAdding missing grouping variables: `User`\n",
      "\u001b[1m\u001b[22mAdding missing grouping variables: `User`\n",
      "\u001b[1m\u001b[22mAdding missing grouping variables: `User`\n",
      "\u001b[1m\u001b[22mAdding missing grouping variables: `User`\n",
      "\u001b[1m\u001b[22mAdding missing grouping variables: `User`\n",
      "\u001b[1m\u001b[22mAdding missing grouping variables: `User`\n",
      "\u001b[1m\u001b[22mAdding missing grouping variables: `User`\n",
      "\u001b[1m\u001b[22mAdding missing grouping variables: `User`\n",
      "\u001b[1m\u001b[22mAdding missing grouping variables: `User`\n",
      "\u001b[1m\u001b[22mAdding missing grouping variables: `User`\n",
      "\u001b[1m\u001b[22mAdding missing grouping variables: `User`\n",
      "\u001b[1m\u001b[22mAdding missing grouping variables: `User`\n",
      "\u001b[1m\u001b[22mAdding missing grouping variables: `User`\n",
      "\u001b[1m\u001b[22mAdding missing grouping variables: `User`\n",
      "\u001b[1m\u001b[22mAdding missing grouping variables: `User`\n",
      "\u001b[1m\u001b[22mAdding missing grouping variables: `User`\n",
      "\u001b[1m\u001b[22mAdding missing grouping variables: `User`\n"
     ]
    },
    {
     "ename": "",
     "evalue": "",
     "output_type": "error",
     "traceback": [
      "\u001b[1;31mCanceled future for execute_request message before replies were done"
     ]
    },
    {
     "ename": "",
     "evalue": "",
     "output_type": "error",
     "traceback": [
      "\u001b[1;31mEl Kernel se bloqueó al ejecutar código en la celda actual o en una celda anterior. Revise el código de las celdas para identificar una posible causa del error. Haga clic <a href='https://aka.ms/vscodeJupyterKernelCrash'>aquí</a> para obtener más información. Vea el [registro] de Jupyter (command:jupyter.viewOutput) para obtener más detalles."
     ]
    }
   ],
   "source": [
    "for (usuario in usuarios_ahorcarme$User) {\n",
    "\n",
    "    #Obtenemos los tweets del usuario\n",
    "    tweets <- tweets_ahorcarme %>%\n",
    "        filter(User == usuario) %>%\n",
    "        select(Content)\n",
    "    \n",
    "    # Revisamos si todos los tweets contienen el texto clave\n",
    "    todosContienen <- TRUE\n",
    "    for (tweet in tweets$Content) {\n",
    "        if (!grepl(frag_frase, tweet)) {\n",
    "            todosContienen <- FALSE\n",
    "            break\n",
    "        }\n",
    "    }\n",
    "    \n",
    "    if (todosContienen) {\n",
    "        usuarios_frag_ahorcarme <- c(usuarios_frag_ahorcarme, usuario)\n",
    "    }\n",
    "    \n",
    "}"
   ]
  },
  {
   "cell_type": "code",
   "execution_count": null,
   "metadata": {
    "vscode": {
     "languageId": "r"
    }
   },
   "outputs": [],
   "source": [
    "# Agregar los usuarios a la lista de usuarios\n",
    "\n",
    "# Ahorcarme\n",
    "usuarios_ahorcarme <- c(usuarios_ahorcarme, usuarios_frag_ahorcarme)\n",
    "\n",
    "# Colgarme\n",
    "usuarios_colgarme <- c(usuarios_colgarme, usuarios_frag_colgarme)"
   ]
  },
  {
   "cell_type": "code",
   "execution_count": 11,
   "metadata": {
    "vscode": {
     "languageId": "r"
    }
   },
   "outputs": [
    {
     "ename": "ERROR",
     "evalue": "Error in writeLines(usuarios_ahorcarme, \"./datos_limpios/lista_negra_ahorcarme.txt\", : can only write character objects\n",
     "output_type": "error",
     "traceback": [
      "Error in writeLines(usuarios_ahorcarme, \"./datos_limpios/lista_negra_ahorcarme.txt\", : can only write character objects\nTraceback:\n",
      "1. writeLines(usuarios_ahorcarme, \"./datos_limpios/lista_negra_ahorcarme.txt\", \n .     sep = \"\\n\")",
      "2. stop(\"can only write character objects\")"
     ]
    }
   ],
   "source": [
    "# Guardamos a los usuarios en lista negra en un archivo línea por línea:\n",
    "\n",
    "# Ahorcarme\n",
    "writeLines(usuarios_ahorcarme, \"./datos_limpios/lista_negra_ahorcarme.txt\", sep = \"\\n\")\n",
    "\n",
    "# Colgarme\n",
    "writeLines(usuarios_colgarme, \"./datos_limpios/lista_negra_colgarme.txt\", sep = \"\\n\")"
   ]
  }
 ],
 "metadata": {
  "kernelspec": {
   "display_name": "R",
   "language": "R",
   "name": "ir"
  },
  "language_info": {
   "codemirror_mode": "r",
   "file_extension": ".r",
   "mimetype": "text/x-r-source",
   "name": "R",
   "pygments_lexer": "r",
   "version": "4.2.2"
  },
  "orig_nbformat": 4,
  "vscode": {
   "interpreter": {
    "hash": "26de051ba29f2982a8de78e945f0abaf191376122a1563185a90213a26c5da77"
   }
  }
 },
 "nbformat": 4,
 "nbformat_minor": 2
}
