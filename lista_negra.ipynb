{
 "cells": [
  {
   "attachments": {},
   "cell_type": "markdown",
   "metadata": {},
   "source": [
    "## Cuaderno de creación de lista negra de usuarios\n",
    "\n",
    "El código definido a continuación tiene como objetivo analizar las publicaciones de la carpeta [`datos`](/datos/), y crear una lista de usuarios que no deberían ser considerados en el análisis de datos.\n",
    "\n",
    "Se consideraran para esta lista usuarios que sean autores de: \n",
    "\n",
    "* Publicaciones hechas para fomentar el cuidado de la salud mental\n",
    "    * Si bien se pueden encontrar palabras clave que indiquen tendencias suicidas, no necesariamente reflejan problemas mentales en quien las publica\n",
    "* Publicaciones repetidas (spam o bots)"
   ]
  },
  {
   "attachments": {},
   "cell_type": "markdown",
   "metadata": {},
   "source": [
    "Para ejecutar las siguientes instrucciones, se empleará el lenguaje de R.\n",
    "\n",
    "Será de utilidad en el análisis, además, el paquete `tm`, que permite realizar análisis sobre texto."
   ]
  },
  {
   "cell_type": "code",
   "execution_count": 1,
   "metadata": {
    "vscode": {
     "languageId": "r"
    }
   },
   "outputs": [
    {
     "name": "stderr",
     "output_type": "stream",
     "text": [
      "Installing packages into ‘/usr/local/lib/R/site-library’\n",
      "(as ‘lib’ is unspecified)\n",
      "\n",
      "Warning message in install.packages(c(\"tm\", \"dplyr\", \"stringr\", \"SnowballC\"), repos = \"http://cran.us.r-project.org\"):\n",
      "“'lib = \"/usr/local/lib/R/site-library\"' is not writable”\n"
     ]
    },
    {
     "ename": "ERROR",
     "evalue": "Error in install.packages(c(\"tm\", \"dplyr\", \"stringr\", \"SnowballC\"), repos = \"http://cran.us.r-project.org\"): unable to install packages\n",
     "output_type": "error",
     "traceback": [
      "Error in install.packages(c(\"tm\", \"dplyr\", \"stringr\", \"SnowballC\"), repos = \"http://cran.us.r-project.org\"): unable to install packages\nTraceback:\n",
      "1. install.packages(c(\"tm\", \"dplyr\", \"stringr\", \"SnowballC\"), repos = \"http://cran.us.r-project.org\")",
      "2. stop(\"unable to install packages\")"
     ]
    }
   ],
   "source": [
    "# Instalar paquetes necesarios\n",
    "install.packages(\n",
    "    c(\n",
    "        \"tm\",\n",
    "        \"dplyr\",\n",
    "        \"stringr\",\n",
    "        \"SnowballC\"\n",
    "    ),\n",
    "    repos = \"http://cran.us.r-project.org\"\n",
    ")"
   ]
  },
  {
   "cell_type": "code",
   "execution_count": 3,
   "metadata": {
    "vscode": {
     "languageId": "r"
    }
   },
   "outputs": [
    {
     "name": "stderr",
     "output_type": "stream",
     "text": [
      "Warning message:\n",
      "\"package 'tm' was built under R version 4.2.3\"\n",
      "Loading required package: NLP\n",
      "\n"
     ]
    },
    {
     "name": "stderr",
     "output_type": "stream",
     "text": [
      "Warning message:\n",
      "\"package 'dplyr' was built under R version 4.2.3\"\n",
      "\n",
      "Attaching package: 'dplyr'\n",
      "\n",
      "\n",
      "The following objects are masked from 'package:stats':\n",
      "\n",
      "    filter, lag\n",
      "\n",
      "\n",
      "The following objects are masked from 'package:base':\n",
      "\n",
      "    intersect, setdiff, setequal, union\n",
      "\n",
      "\n",
      "Warning message:\n",
      "\"package 'SnowballC' was built under R version 4.2.3\"\n"
     ]
    }
   ],
   "source": [
    "# Se cargan las librerías\n",
    "library('tm')\n",
    "library('dplyr')\n",
    "library('SnowballC')"
   ]
  },
  {
   "cell_type": "code",
   "execution_count": 4,
   "metadata": {
    "vscode": {
     "languageId": "r"
    }
   },
   "outputs": [],
   "source": [
    "# Se carga el archivo de texto\n",
    "publicaciones_ahorcarme <- read.csv(\"./datos/ahorcarme_complete.csv\")\n",
    "publicaciones_colgarme <- read.csv(\"./datos/colgarme_complete.csv\")"
   ]
  },
  {
   "cell_type": "code",
   "execution_count": 5,
   "metadata": {
    "vscode": {
     "languageId": "r"
    }
   },
   "outputs": [
    {
     "data": {
      "text/html": [
       "<table class=\"dataframe\">\n",
       "<caption>A data.frame: 6 × 6</caption>\n",
       "<thead>\n",
       "\t<tr><th></th><th scope=col>User</th><th scope=col>Content</th><th scope=col>Date</th><th scope=col>URL</th><th scope=col>Coordinates</th><th scope=col>Place</th></tr>\n",
       "\t<tr><th></th><th scope=col>&lt;chr&gt;</th><th scope=col>&lt;chr&gt;</th><th scope=col>&lt;chr&gt;</th><th scope=col>&lt;chr&gt;</th><th scope=col>&lt;chr&gt;</th><th scope=col>&lt;chr&gt;</th></tr>\n",
       "</thead>\n",
       "<tbody>\n",
       "\t<tr><th scope=row>1</th><td>nadaespecial__</td><td>Con la misma soga puedo ahorcarme o saltar                                                                                            </td><td>2014-12-30 22:55:34</td><td>https://twitter.com/nadaespecial__/status/550062666434506752</td><td>NA</td><td>NA</td></tr>\n",
       "\t<tr><th scope=row>2</th><td>LooreenaaN    </td><td>\"@SoyBuenCatre: Debí ahorcarme con el cordón umbilical.\"                                                                              </td><td>2014-12-30 22:04:21</td><td>https://twitter.com/LooreenaaN/status/550049781054439424    </td><td>NA</td><td>NA</td></tr>\n",
       "\t<tr><th scope=row>3</th><td>errorbizarro_ </td><td>Estoy harto de ser pobre, asique ayer intente ahorcarme, pero en el intento el techo se me cayó encima, osea que también soy gordo. :(</td><td>2014-12-30 21:57:08</td><td>https://twitter.com/errorbizarro_/status/550047965302513664 </td><td>NA</td><td>NA</td></tr>\n",
       "\t<tr><th scope=row>4</th><td>Straatoo      </td><td>Hay un viejo culiao acá que tiene un humor culiao tan ahueonao, que me dan ganas de tirarme ahorcarme de una wea                      </td><td>2014-12-30 21:29:24</td><td>https://twitter.com/Straatoo/status/550040983464083457      </td><td>NA</td><td>NA</td></tr>\n",
       "\t<tr><th scope=row>5</th><td>yadizrh       </td><td>@emilioelde yo sería mas original..... Soy capaz de ahorcarme con un fideo cosido si no me contestas guapetón. I love you!!! ^_^      </td><td>2014-12-30 19:27:45</td><td>https://twitter.com/yadizrh/status/550010368035405826       </td><td>NA</td><td>NA</td></tr>\n",
       "\t<tr><th scope=row>6</th><td>AlexanndraMn  </td><td>Tengo el pelo tan largo que podría ahorcarme con él.                                                                                  </td><td>2014-12-30 19:23:19</td><td>https://twitter.com/AlexanndraMn/status/550009254745083905  </td><td>NA</td><td>NA</td></tr>\n",
       "</tbody>\n",
       "</table>\n"
      ],
      "text/latex": [
       "A data.frame: 6 × 6\n",
       "\\begin{tabular}{r|llllll}\n",
       "  & User & Content & Date & URL & Coordinates & Place\\\\\n",
       "  & <chr> & <chr> & <chr> & <chr> & <chr> & <chr>\\\\\n",
       "\\hline\n",
       "\t1 & nadaespecial\\_\\_ & Con la misma soga puedo ahorcarme o saltar                                                                                             & 2014-12-30 22:55:34 & https://twitter.com/nadaespecial\\_\\_/status/550062666434506752 & NA & NA\\\\\n",
       "\t2 & LooreenaaN     & \"@SoyBuenCatre: Debí ahorcarme con el cordón umbilical.\"                                                                               & 2014-12-30 22:04:21 & https://twitter.com/LooreenaaN/status/550049781054439424     & NA & NA\\\\\n",
       "\t3 & errorbizarro\\_  & Estoy harto de ser pobre, asique ayer intente ahorcarme, pero en el intento el techo se me cayó encima, osea que también soy gordo. :( & 2014-12-30 21:57:08 & https://twitter.com/errorbizarro\\_/status/550047965302513664  & NA & NA\\\\\n",
       "\t4 & Straatoo       & Hay un viejo culiao acá que tiene un humor culiao tan ahueonao, que me dan ganas de tirarme ahorcarme de una wea                       & 2014-12-30 21:29:24 & https://twitter.com/Straatoo/status/550040983464083457       & NA & NA\\\\\n",
       "\t5 & yadizrh        & @emilioelde yo sería mas original..... Soy capaz de ahorcarme con un fideo cosido si no me contestas guapetón. I love you!!! \\textasciicircum{}\\_\\textasciicircum{}       & 2014-12-30 19:27:45 & https://twitter.com/yadizrh/status/550010368035405826        & NA & NA\\\\\n",
       "\t6 & AlexanndraMn   & Tengo el pelo tan largo que podría ahorcarme con él.                                                                                   & 2014-12-30 19:23:19 & https://twitter.com/AlexanndraMn/status/550009254745083905   & NA & NA\\\\\n",
       "\\end{tabular}\n"
      ],
      "text/markdown": [
       "\n",
       "A data.frame: 6 × 6\n",
       "\n",
       "| <!--/--> | User &lt;chr&gt; | Content &lt;chr&gt; | Date &lt;chr&gt; | URL &lt;chr&gt; | Coordinates &lt;chr&gt; | Place &lt;chr&gt; |\n",
       "|---|---|---|---|---|---|---|\n",
       "| 1 | nadaespecial__ | Con la misma soga puedo ahorcarme o saltar                                                                                             | 2014-12-30 22:55:34 | https://twitter.com/nadaespecial__/status/550062666434506752 | NA | NA |\n",
       "| 2 | LooreenaaN     | \"@SoyBuenCatre: Debí ahorcarme con el cordón umbilical.\"                                                                               | 2014-12-30 22:04:21 | https://twitter.com/LooreenaaN/status/550049781054439424     | NA | NA |\n",
       "| 3 | errorbizarro_  | Estoy harto de ser pobre, asique ayer intente ahorcarme, pero en el intento el techo se me cayó encima, osea que también soy gordo. :( | 2014-12-30 21:57:08 | https://twitter.com/errorbizarro_/status/550047965302513664  | NA | NA |\n",
       "| 4 | Straatoo       | Hay un viejo culiao acá que tiene un humor culiao tan ahueonao, que me dan ganas de tirarme ahorcarme de una wea                       | 2014-12-30 21:29:24 | https://twitter.com/Straatoo/status/550040983464083457       | NA | NA |\n",
       "| 5 | yadizrh        | @emilioelde yo sería mas original..... Soy capaz de ahorcarme con un fideo cosido si no me contestas guapetón. I love you!!! ^_^       | 2014-12-30 19:27:45 | https://twitter.com/yadizrh/status/550010368035405826        | NA | NA |\n",
       "| 6 | AlexanndraMn   | Tengo el pelo tan largo que podría ahorcarme con él.                                                                                   | 2014-12-30 19:23:19 | https://twitter.com/AlexanndraMn/status/550009254745083905   | NA | NA |\n",
       "\n"
      ],
      "text/plain": [
       "  User          \n",
       "1 nadaespecial__\n",
       "2 LooreenaaN    \n",
       "3 errorbizarro_ \n",
       "4 Straatoo      \n",
       "5 yadizrh       \n",
       "6 AlexanndraMn  \n",
       "  Content                                                                                                                               \n",
       "1 Con la misma soga puedo ahorcarme o saltar                                                                                            \n",
       "2 \"@SoyBuenCatre: Debí ahorcarme con el cordón umbilical.\"                                                                              \n",
       "3 Estoy harto de ser pobre, asique ayer intente ahorcarme, pero en el intento el techo se me cayó encima, osea que también soy gordo. :(\n",
       "4 Hay un viejo culiao acá que tiene un humor culiao tan ahueonao, que me dan ganas de tirarme ahorcarme de una wea                      \n",
       "5 @emilioelde yo sería mas original..... Soy capaz de ahorcarme con un fideo cosido si no me contestas guapetón. I love you!!! ^_^      \n",
       "6 Tengo el pelo tan largo que podría ahorcarme con él.                                                                                  \n",
       "  Date               \n",
       "1 2014-12-30 22:55:34\n",
       "2 2014-12-30 22:04:21\n",
       "3 2014-12-30 21:57:08\n",
       "4 2014-12-30 21:29:24\n",
       "5 2014-12-30 19:27:45\n",
       "6 2014-12-30 19:23:19\n",
       "  URL                                                          Coordinates\n",
       "1 https://twitter.com/nadaespecial__/status/550062666434506752 NA         \n",
       "2 https://twitter.com/LooreenaaN/status/550049781054439424     NA         \n",
       "3 https://twitter.com/errorbizarro_/status/550047965302513664  NA         \n",
       "4 https://twitter.com/Straatoo/status/550040983464083457       NA         \n",
       "5 https://twitter.com/yadizrh/status/550010368035405826        NA         \n",
       "6 https://twitter.com/AlexanndraMn/status/550009254745083905   NA         \n",
       "  Place\n",
       "1 NA   \n",
       "2 NA   \n",
       "3 NA   \n",
       "4 NA   \n",
       "5 NA   \n",
       "6 NA   "
      ]
     },
     "metadata": {},
     "output_type": "display_data"
    }
   ],
   "source": [
    "head(publicaciones_ahorcarme)"
   ]
  },
  {
   "cell_type": "code",
   "execution_count": 3,
   "metadata": {
    "vscode": {
     "languageId": "r"
    }
   },
   "outputs": [],
   "source": [
    "# Obtenemos del dataframe las que tengan usuarios que aparezcan más de N veces\n",
    "\n",
    "obtener_publicaciones <- function(dataframe, pub_minimas) {\n",
    "\n",
    "    dataframe <- dataframe %>% \n",
    "        group_by(User) %>% \n",
    "        filter(n() > pub_minimas)\n",
    "\n",
    "    return(dataframe)\n",
    "}"
   ]
  },
  {
   "cell_type": "code",
   "execution_count": 4,
   "metadata": {
    "vscode": {
     "languageId": "r"
    }
   },
   "outputs": [],
   "source": [
    "# Filtramos los usuarios que tengan más de 5 publicaciones\n",
    "publicaciones_ahorcarme_reducidas <- obtener_publicaciones(publicaciones_ahorcarme, 5)\n",
    "publicaciones_colgarme_reducidas <- obtener_publicaciones(publicaciones_colgarme, 5)"
   ]
  },
  {
   "cell_type": "code",
   "execution_count": 5,
   "metadata": {
    "vscode": {
     "languageId": "r"
    }
   },
   "outputs": [],
   "source": [
    "# Se juntan los vectores que contienen los nombres de los usuarios, para ser unificados en una sola lista negra\n",
    "# Se le suministrarán varios vectores de usuarios, y se devolverá un vector con los usuarios únicos\n",
    "\n",
    "juntar_usuarios <- function(listas_usuarios) {\n",
    "\n",
    "    usuarios <- c()\n",
    "\n",
    "    for (lista in listas_usuarios) {\n",
    "        usuarios <- c(usuarios, lista)\n",
    "    }\n",
    "\n",
    "    usuarios <- unique(usuarios)\n",
    "\n",
    "    return(usuarios)\n",
    "}"
   ]
  },
  {
   "cell_type": "code",
   "execution_count": 6,
   "metadata": {
    "vscode": {
     "languageId": "r"
    }
   },
   "outputs": [],
   "source": [
    "# Creamos la lista de los usuarios que aparecen más de 5 veces en las publicaciones\n",
    "\n",
    "usuarios_ahorcarme <- publicaciones_ahorcarme_reducidas$User\n",
    "usuarios_colgarme <- publicaciones_colgarme_reducidas$User\n",
    "\n",
    "lista_negra <- juntar_usuarios(\n",
    "    c(\n",
    "        usuarios_ahorcarme,\n",
    "        usuarios_colgarme\n",
    "    )\n",
    ")"
   ]
  },
  {
   "cell_type": "code",
   "execution_count": 9,
   "metadata": {
    "vscode": {
     "languageId": "r"
    }
   },
   "outputs": [
    {
     "data": {
      "text/html": [
       "<style>\n",
       ".list-inline {list-style: none; margin:0; padding: 0}\n",
       ".list-inline>li {display: inline-block}\n",
       ".list-inline>li:not(:last-child)::after {content: \"\\00b7\"; padding: 0 .5ex}\n",
       "</style>\n",
       "<ol class=list-inline><li>'soiiviic'</li><li>'gatoacostadou'</li><li>'Lucasnun_'</li><li>'cigarettommy'</li><li>'lwtironic'</li><li>'CyanideMoon'</li></ol>\n"
      ],
      "text/latex": [
       "\\begin{enumerate*}\n",
       "\\item 'soiiviic'\n",
       "\\item 'gatoacostadou'\n",
       "\\item 'Lucasnun\\_'\n",
       "\\item 'cigarettommy'\n",
       "\\item 'lwtironic'\n",
       "\\item 'CyanideMoon'\n",
       "\\end{enumerate*}\n"
      ],
      "text/markdown": [
       "1. 'soiiviic'\n",
       "2. 'gatoacostadou'\n",
       "3. 'Lucasnun_'\n",
       "4. 'cigarettommy'\n",
       "5. 'lwtironic'\n",
       "6. 'CyanideMoon'\n",
       "\n",
       "\n"
      ],
      "text/plain": [
       "[1] \"soiiviic\"      \"gatoacostadou\" \"Lucasnun_\"     \"cigarettommy\" \n",
       "[5] \"lwtironic\"     \"CyanideMoon\"  "
      ]
     },
     "metadata": {},
     "output_type": "display_data"
    }
   ],
   "source": [
    "head(lista_negra)"
   ]
  },
  {
   "attachments": {},
   "cell_type": "markdown",
   "metadata": {},
   "source": [
    "Ahora, podemos revisar manualmente los tweets de los usuarios que colocamos en la lista negra bajo este criterio, para determinar si realmente sus publicaciones son despreciables para el análisis."
   ]
  },
  {
   "cell_type": "code",
   "execution_count": 7,
   "metadata": {
    "vscode": {
     "languageId": "r"
    }
   },
   "outputs": [],
   "source": [
    "# Obtenemos los tweets de estos usuarios, para revisarlos manualmente\n",
    "\n",
    "# Ahorcarme\n",
    "tweets_lisneg_ahorcarme <- publicaciones_ahorcarme_reducidas %>%\n",
    "    filter(User %in% lista_negra)\n",
    "\n",
    "# Colgarme\n",
    "tweets_lisneg_colgarme <- publicaciones_colgarme_reducidas %>%\n",
    "    filter(User %in% lista_negra)"
   ]
  },
  {
   "cell_type": "code",
   "execution_count": 1,
   "metadata": {
    "vscode": {
     "languageId": "r"
    }
   },
   "outputs": [],
   "source": [
    "escribir_dataframe <- function(dataframe, ruta_archivo) {\n",
    "    write.table(\n",
    "        dataframe,\n",
    "        file = ruta_archivo,\n",
    "        row.names = FALSE,\n",
    "        col.names = TRUE,\n",
    "        quote = TRUE,\n",
    "        sep = \",\"\n",
    "    )\n",
    "}"
   ]
  },
  {
   "cell_type": "code",
   "execution_count": 11,
   "metadata": {
    "vscode": {
     "languageId": "r"
    }
   },
   "outputs": [],
   "source": [
    "# Guardamos los tweets en un archivo\n",
    "\n",
    "# Ahorcarme\n",
    "escribir_dataframe(tweets_lisneg_ahorcarme, \"./datos_limpios/datos_por_revisar/tweets_lisneg_ahorcarme.csv\")\n",
    "# Colgarme\n",
    "escribir_dataframe(tweets_lisneg_colgarme, \"./datos_limpios/datos_por_revisar/tweets_lisneg_colgarme.csv\")"
   ]
  },
  {
   "attachments": {},
   "cell_type": "markdown",
   "metadata": {},
   "source": [
    "Luego de revisar los tweets, encontré un fragmento que hace alusión a una connotación sexual de la palabra concurrente. Por lo tanto, aquellos usuarios cuyas publicaciones que contienen la palabra \"ahorcarme\" serán añadidos a la lista negra.\n",
    "\n",
    "Es importante considerar que, si bien emplean la palabra bajo un concepto sexual, puede no ser la única forma en la que la usan; de hecho, logré encontrar varios perfiles en los que hacen un uso sexual y violento del verbo. De tal manera, de este grupo de usuarios que tergiversan de esta forma la acción, únicamente se seleccionarán aquellos que emplean la palabra exclusivamente en un contexto sexual, es decir, en todos los tweets que les fueron recolectados que les pertenecen."
   ]
  },
  {
   "cell_type": "code",
   "execution_count": 5,
   "metadata": {
    "vscode": {
     "languageId": "r"
    }
   },
   "outputs": [],
   "source": [
    "# Función que obtiene los tweets de un usuario y determina si todos contienen una serie de textos claves\n",
    "\n",
    "tweetsSonRepetitivos <- function(dataset, usuario, textosClave) {\n",
    "    # Obtenemos los tweets del usuario\n",
    "    tweets <- dataset %>%\n",
    "        filter(User == usuario) %>%\n",
    "        pull(Content) # pull() devuelve un vector con los valores de la columna\n",
    "    \n",
    "    # Revisamos si todos los tweets contienen alguno de los textos clave\n",
    "    for (texto in textosClave){\n",
    "        todosContienen <- all(grepl(texto, tweets, ignore.case = TRUE))\n",
    "\n",
    "        # Nos conformamos con saber que uno de los textos que deseamos excluir está en los tweets,\n",
    "        # pues es suficiente para determinar que el usuario repite contenido\n",
    "        if (todosContienen) {\n",
    "            return (TRUE)\n",
    "        }\n",
    "    }\n",
    "    \n",
    "    return (todosContienen)\n",
    "}"
   ]
  },
  {
   "cell_type": "code",
   "execution_count": 6,
   "metadata": {
    "vscode": {
     "languageId": "r"
    }
   },
   "outputs": [],
   "source": [
    "# Función que toma un dataset y una serie de textos clave, y devuelve los usuarios que tienen todos\n",
    "# sus tweets con al menos uno de esos textos clave\n",
    "\n",
    "obtenerUsuariosRepetitivos <- function(dataset, textosClave) {\n",
    "    # Obtenemos los usuarios\n",
    "    usuarios <- dataset %>%\n",
    "        distinct(User) %>%\n",
    "        pull(User)\n",
    "        \n",
    "    # Obtenemos los usuarios que tienen todos sus tweets con alguno de sus textos clave en este vector\n",
    "    usuarios_repetitivos <- c()\n",
    "    \n",
    "    for (usuario in usuarios) {\n",
    "\n",
    "        if (tweetsSonRepetitivos(dataset, usuario, textosClave)) {\n",
    "            usuarios_repetitivos <- c(usuarios_repetitivos, usuario)\n",
    "            break\n",
    "        }\n",
    "    }\n",
    "    \n",
    "    return (unique(usuarios_repetitivos))\n",
    "}"
   ]
  },
  {
   "cell_type": "code",
   "execution_count": 14,
   "metadata": {
    "vscode": {
     "languageId": "r"
    }
   },
   "outputs": [],
   "source": [
    "# Fragmento\n",
    "frags_frase = c(\n",
    "    \"ahorcame por dios ahorcame hasta el punto de que tus manos\"\n",
    ")\n",
    "\n",
    "# Localizar los tweets que contengan la frase, y de ellos tomar los usuarios, para agregarlos a los que ya\n",
    "# estaban listados, siempre y cuando todos los tweets del usuario contengan la frase\n",
    "\n",
    "usuarios_frags_ahorcarme <- obtenerUsuariosRepetitivos(publicaciones_ahorcarme, frags_frase)"
   ]
  },
  {
   "attachments": {},
   "cell_type": "markdown",
   "metadata": {},
   "source": [
    "Otro son fragmentos de una canción, en los tweets con la palabra clave \"colgarme\"\n",
    "\n",
    "Los fragmentos son los siguientes:\n",
    "\n",
    "<blockquote>\n",
    "    <ul>\n",
    "        <li> Niña, dame una pestaña de tus ojos para colgarme de amor por ti </li>\n",
    "        <li> Colgarme de cualquiera que le gusta trasnochar </li>\n",
    "    </ul>\n",
    "</blockquote>"
   ]
  },
  {
   "cell_type": "code",
   "execution_count": 16,
   "metadata": {
    "vscode": {
     "languageId": "r"
    }
   },
   "outputs": [],
   "source": [
    "# Fragmentos\n",
    "frags_frase = c(\n",
    "    \"Niña, dame una pestaña de tus ojos para colgarme de amor por ti\",\n",
    "    \"Colgarme de cualquiera que le gusta trasnochar\"\n",
    ")\n",
    "# Localizar los tweets que contengan la frase, y de ellos tomar los usuarios, para agregarlos a los que ya\n",
    "# estaban listados.\n",
    "\n",
    "usuarios_frags_colgarme <- obtenerUsuariosRepetitivos(publicaciones_colgarme, frags_frase)"
   ]
  },
  {
   "attachments": {},
   "cell_type": "markdown",
   "metadata": {},
   "source": [
    "Igualmente, se removerá cualquier uso de la llamada en el contexto de una conversación telefónica.\n",
    "\n",
    "Por su parte, otros usos de la palabra que se refieran a una acción como \"depender de\" o \"aprovecharse de\" podrían requerir de otro tipo de servicios para ser procesados.\n",
    "\n",
    "En [este notebook](./filtrado_tweets_ahorcarme.ipynb) estaré trabajando en otros usos de la palabra a través de los servicios que ofrece Microsoft Azure. Indagaré en el uso de los servicios cognitivos o las integraciones con OpenAI para proveer un filtro de las publicaciones con un procesamiento del lenguaje más intuitivo y preciso."
   ]
  },
  {
   "cell_type": "code",
   "execution_count": 7,
   "metadata": {
    "vscode": {
     "languageId": "r"
    }
   },
   "outputs": [],
   "source": [
    "raiz_verbo_aparece <- function(texto, raices_a_comparar, language) {\n",
    "\n",
    "    palabras <- unlist(strsplit(texto, \" \"))\n",
    "    raices_palabras <- wordStem(palabras, language = language)\n",
    "    \n",
    "    for (raiz_palabra in raices_palabras) {\n",
    "        \n",
    "        for (raiz_verbo in raices_a_comparar) {\n",
    "            \n",
    "            if ( grepl(raiz_verbo, raiz_palabra, ignore.case = TRUE) ) {\n",
    "                return(TRUE)\n",
    "            }\n",
    "        }\n",
    "\n",
    "    }\n",
    "\n",
    "    return(FALSE)\n",
    "\n",
    "}"
   ]
  },
  {
   "cell_type": "code",
   "execution_count": 8,
   "metadata": {
    "vscode": {
     "languageId": "r"
    }
   },
   "outputs": [],
   "source": [
    "# Usando el paquete tm, se buscarán los tweets que contengan alguna conjugación de los verbos indicados\n",
    "\n",
    "excluir_tweets_segun_palabras <- function(dataframe, palabras, language) {\n",
    "\n",
    "    # Se obtienen las raíces de las palabras\n",
    "    raices_palabras <- wordStem(palabras, language = language)\n",
    "\n",
    "    # Se obtienen los tweets que no contengan ninguna de las raíces de las palabras (i.e., el verbo no aparece\n",
    "    # en ninguna conjugación)\n",
    "    tweets_sin_palabras <- dataframe %>%\n",
    "        mutate(\n",
    "            contiene_raices_palabras = sapply(Content, raiz_verbo_aparece, raices_palabras, language)\n",
    "        ) %>%\n",
    "        filter(contiene_raices_palabras == FALSE) %>%\n",
    "        select(-contiene_raices_palabras) # Se elimina la columna auxiliar\n",
    "\n",
    "    return(tweets_sin_palabras)\n",
    "}"
   ]
  },
  {
   "cell_type": "code",
   "execution_count": 9,
   "metadata": {
    "vscode": {
     "languageId": "r"
    }
   },
   "outputs": [
    {
     "name": "stdout",
     "output_type": "stream",
     "text": [
      "[1] \"llam\"    \"marc\"    \"respond\" \"contest\"\n"
     ]
    }
   ],
   "source": [
    "# No quitamos al usuario completamente porque el uso de la palabra \"colgar\" en una llamada no le excluye de usarla con\n",
    "# intenciones autolesivas, por lo que nos limitamos a excluir esas publicaciones\n",
    "\n",
    "palabras_contexto_telefonico <- c(\n",
    "    \"llamar\",\n",
    "    \"marcar\",\n",
    "    \"responder\",\n",
    "    \"contestar\"\n",
    ")\n",
    "\n",
    "# Demostrando el uso del paquete tm\n",
    "raices_palabras_contexto_telefonico <- wordStem(palabras_contexto_telefonico, language = \"spanish\")\n",
    "print(raices_palabras_contexto_telefonico)"
   ]
  },
  {
   "cell_type": "code",
   "execution_count": 28,
   "metadata": {
    "vscode": {
     "languageId": "r"
    }
   },
   "outputs": [],
   "source": [
    "# Eliminamos los tweets que contengan alguna conjugación de los verbos que indican que se habla de una llamada\n",
    "\n",
    "tweets_colgarme_limpios <- excluir_tweets_segun_palabras(\n",
    "    publicaciones_colgarme,\n",
    "    palabras_contexto_telefonico,\n",
    "    \"spanish\"\n",
    ")"
   ]
  },
  {
   "cell_type": "code",
   "execution_count": 29,
   "metadata": {
    "vscode": {
     "languageId": "r"
    }
   },
   "outputs": [],
   "source": [
    "# Escribir tweets para no depender de la sesión de R\n",
    "escribir_dataframe(tweets_colgarme_limpios, \"./datos_limpios/datos_por_revisar/tweets_colgarme_limpios.csv\")"
   ]
  },
  {
   "cell_type": "code",
   "execution_count": 36,
   "metadata": {
    "vscode": {
     "languageId": "r"
    }
   },
   "outputs": [],
   "source": [
    "# Escribir los mismos tweets, pero extrayendo aquellos cuyos usuarios aparecen con frecuencia\n",
    "\n",
    "write.table(\n",
    "    obtener_publicaciones(tweets_colgarme_limpios, 5),\n",
    "    file = \"./datos_limpios/datos_por_revisar/tweets_colgarme_radicados_5_ocurrencias.csv\",\n",
    "    row.names = FALSE,\n",
    "    col.names = TRUE,\n",
    "    quote = TRUE,\n",
    "    sep = \",\"\n",
    ")"
   ]
  },
  {
   "cell_type": "code",
   "execution_count": 31,
   "metadata": {
    "vscode": {
     "languageId": "r"
    }
   },
   "outputs": [],
   "source": [
    "# Agregar los usuarios a la lista de usuarios\n",
    "\n",
    "lista_negra <- juntar_usuarios(\n",
    "    c(\n",
    "        lista_negra,\n",
    "        usuarios_frags_ahorcarme,\n",
    "        usuarios_frags_colgarme\n",
    "    )\n",
    ")"
   ]
  },
  {
   "cell_type": "code",
   "execution_count": 30,
   "metadata": {
    "vscode": {
     "languageId": "r"
    }
   },
   "outputs": [],
   "source": [
    "# Escribimos las listas de usuarios para no depender de la sesión de R\n",
    "writeLines(usuarios_frags_ahorcarme, \"./datos_limpios/datos_por_revisar/usuarios_frag_ahorcarme.txt\")\n",
    "writeLines(usuarios_frags_colgarme, \"./datos_limpios/datos_por_revisar/usuarios_frag_colgarme.txt\")"
   ]
  },
  {
   "cell_type": "code",
   "execution_count": 32,
   "metadata": {
    "vscode": {
     "languageId": "r"
    }
   },
   "outputs": [],
   "source": [
    "# Escribir la lista negra en un archivo\n",
    "writeLines(\n",
    "    lista_negra,\n",
    "    file = \"./datos_limpios/datos_por_revisar/lista_negra.txt\",\n",
    ")"
   ]
  },
  {
   "attachments": {},
   "cell_type": "markdown",
   "metadata": {},
   "source": [
    "A partir de aquí, una vez que hallamos revisado la lista negra de usuarios, vamos a limpiar los conjuntos de datos para obtener únicamente la información útil."
   ]
  },
  {
   "cell_type": "code",
   "execution_count": 33,
   "metadata": {
    "vscode": {
     "languageId": "r"
    }
   },
   "outputs": [],
   "source": [
    "# Excluir a estos usuarios de los datasets, pero a partir de la lista negra de usuarios ya revisada\n",
    "\n",
    "# Leer lista\n",
    "lista_negra_revisada <- readLines(\"./datos_limpios/lista_negra_revisada.txt\", encoding = \"UTF-8\")"
   ]
  },
  {
   "cell_type": "code",
   "execution_count": 35,
   "metadata": {
    "vscode": {
     "languageId": "r"
    }
   },
   "outputs": [],
   "source": [
    "# Reescribir lista negra, para obtener sólo valores únicos\n",
    "lista_negra_revisada <- unique(lista_negra_revisada) %>% sort()\n",
    "writeLines(lista_negra_revisada, \"./datos_limpios/lista_negra_revisada.txt\")"
   ]
  },
  {
   "cell_type": "code",
   "execution_count": null,
   "metadata": {
    "vscode": {
     "languageId": "r"
    }
   },
   "outputs": [],
   "source": [
    "retirar_tweets_usuarios <~ function(dataframe, usuarios) {\n",
    "    return (\n",
    "        dataframe %>%\n",
    "            filter(!User %in% usuarios)\n",
    "    )\n",
    "}"
   ]
  },
  {
   "cell_type": "code",
   "execution_count": null,
   "metadata": {
    "vscode": {
     "languageId": "r"
    }
   },
   "outputs": [],
   "source": [
    "# Ahorcarme\n",
    "publicaciones_ahorcarme <- retirar_tweets_usuarios(publicaciones_ahorcarme, lista_negra_revisada)\n",
    "\n",
    "# Colgarme\n",
    "publicaciones_colgarme <- retirar_tweets_usuarios(tweets_colgarme_limpios, lista_negra_revisada)"
   ]
  },
  {
   "cell_type": "code",
   "execution_count": null,
   "metadata": {
    "vscode": {
     "languageId": "r"
    }
   },
   "outputs": [],
   "source": [
    "# Guardamos los tweets en un archivo\n",
    "\n",
    "# Ahorcarme\n",
    "escribir_dataframe(publicaciones_ahorcarme, \"./datos_limpios/ahorcarme_filtered.csv\")\n",
    "\n",
    "# Colgarme\n",
    "escribir_dataframe(publicaciones_colgarme, \"./datos_limpios/colgarme_filtered.csv\")"
   ]
  }
 ],
 "metadata": {
  "kernelspec": {
   "display_name": "R",
   "language": "R",
   "name": "ir"
  },
  "language_info": {
   "codemirror_mode": "r",
   "file_extension": ".r",
   "mimetype": "text/x-r-source",
   "name": "R",
   "pygments_lexer": "r",
   "version": "4.2.2"
  },
  "orig_nbformat": 4,
  "vscode": {
   "interpreter": {
    "hash": "26de051ba29f2982a8de78e945f0abaf191376122a1563185a90213a26c5da77"
   }
  }
 },
 "nbformat": 4,
 "nbformat_minor": 2
}
