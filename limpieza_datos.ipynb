{
 "cells": [
  {
   "cell_type": "markdown",
   "metadata": {},
   "source": [
    "## Cuaderno de creación de lista negra de usuarios\n",
    "\n",
    "El código definido a continuación tiene como objetivo analizar las publicaciones de la carpeta [`datos`](/datos/), y crear una lista de usuarios que no deberían ser considerados en el análisis de datos.\n",
    "\n",
    "Se consideraran para esta lista usuarios que sean autores de: \n",
    "\n",
    "* Publicaciones hechas para fomentar el cuidado de la salud mental\n",
    "    * Si bien se pueden encontrar palabras clave que indiquen tendencias suicidas, no necesariamente reflejan problemas mentales en quien las publica\n",
    "* Publicaciones repetidas (spam o bots)"
   ]
  },
  {
   "cell_type": "markdown",
   "metadata": {},
   "source": [
    "Para ejecutar las siguientes instrucciones, se empleará el lenguaje de R.\n",
    "\n",
    "Será de utilidad en el análisis, además, el paquete `tm`, que permite realizar análisis sobre texto."
   ]
  },
  {
   "cell_type": "code",
   "execution_count": 1,
   "metadata": {
    "vscode": {
     "languageId": "r"
    }
   },
   "outputs": [
    {
     "name": "stderr",
     "output_type": "stream",
     "text": [
      "also installing the dependencies 'NLP', 'slam'\n",
      "\n",
      "\n"
     ]
    },
    {
     "name": "stdout",
     "output_type": "stream",
     "text": [
      "package 'NLP' successfully unpacked and MD5 sums checked\n",
      "package 'slam' successfully unpacked and MD5 sums checked\n",
      "package 'tm' successfully unpacked and MD5 sums checked\n",
      "\n",
      "The downloaded binary packages are in\n",
      "\tC:\\Users\\Administrador\\AppData\\Local\\Temp\\RtmpszvbkV\\downloaded_packages\n"
     ]
    }
   ],
   "source": [
    "# Instalar paquetes necesarios\n",
    "install.packages(\n",
    "    c(\n",
    "        \"tm\",\n",
    "        \"dplyr\"\n",
    "    ),\n",
    "    repos = \"http://cran.us.r-project.org\"\n",
    ")"
   ]
  },
  {
   "cell_type": "code",
   "execution_count": 4,
   "metadata": {
    "vscode": {
     "languageId": "r"
    }
   },
   "outputs": [],
   "source": [
    "# Se cargan las librerías\n",
    "library('tm')\n",
    "library('dplyr')"
   ]
  },
  {
   "cell_type": "code",
   "execution_count": 5,
   "metadata": {
    "vscode": {
     "languageId": "r"
    }
   },
   "outputs": [],
   "source": [
    "# Se carga el archivo de texto\n",
    "datos_ahorcarme <- read.csv(\"./datos/ahorcarme_complete.csv\")\n",
    "datos_colgarme <- read.csv(\"./datos/colgarme_complete.csv\")"
   ]
  },
  {
   "cell_type": "code",
   "execution_count": 6,
   "metadata": {
    "vscode": {
     "languageId": "r"
    }
   },
   "outputs": [
    {
     "data": {
      "text/html": [
       "<table class=\"dataframe\">\n",
       "<caption>A data.frame: 6 × 6</caption>\n",
       "<thead>\n",
       "\t<tr><th></th><th scope=col>User</th><th scope=col>Content</th><th scope=col>Date</th><th scope=col>URL</th><th scope=col>Coordinates</th><th scope=col>Place</th></tr>\n",
       "\t<tr><th></th><th scope=col>&lt;chr&gt;</th><th scope=col>&lt;chr&gt;</th><th scope=col>&lt;chr&gt;</th><th scope=col>&lt;chr&gt;</th><th scope=col>&lt;chr&gt;</th><th scope=col>&lt;chr&gt;</th></tr>\n",
       "</thead>\n",
       "<tbody>\n",
       "\t<tr><th scope=row>1</th><td>nadaespecial__</td><td>Con la misma soga puedo ahorcarme o saltar                                                                                            </td><td>2014-12-30 22:55:34</td><td>https://twitter.com/nadaespecial__/status/550062666434506752</td><td>NA</td><td>NA</td></tr>\n",
       "\t<tr><th scope=row>2</th><td>LooreenaaN    </td><td>\"@SoyBuenCatre: Debí ahorcarme con el cordón umbilical.\"                                                                              </td><td>2014-12-30 22:04:21</td><td>https://twitter.com/LooreenaaN/status/550049781054439424    </td><td>NA</td><td>NA</td></tr>\n",
       "\t<tr><th scope=row>3</th><td>errorbizarro_ </td><td>Estoy harto de ser pobre, asique ayer intente ahorcarme, pero en el intento el techo se me cayó encima, osea que también soy gordo. :(</td><td>2014-12-30 21:57:08</td><td>https://twitter.com/errorbizarro_/status/550047965302513664 </td><td>NA</td><td>NA</td></tr>\n",
       "\t<tr><th scope=row>4</th><td>Straatoo      </td><td>Hay un viejo culiao acá que tiene un humor culiao tan ahueonao, que me dan ganas de tirarme ahorcarme de una wea                      </td><td>2014-12-30 21:29:24</td><td>https://twitter.com/Straatoo/status/550040983464083457      </td><td>NA</td><td>NA</td></tr>\n",
       "\t<tr><th scope=row>5</th><td>yadizrh       </td><td>@emilioelde yo sería mas original..... Soy capaz de ahorcarme con un fideo cosido si no me contestas guapetón. I love you!!! ^_^      </td><td>2014-12-30 19:27:45</td><td>https://twitter.com/yadizrh/status/550010368035405826       </td><td>NA</td><td>NA</td></tr>\n",
       "\t<tr><th scope=row>6</th><td>AlexanndraMn  </td><td>Tengo el pelo tan largo que podría ahorcarme con él.                                                                                  </td><td>2014-12-30 19:23:19</td><td>https://twitter.com/AlexanndraMn/status/550009254745083905  </td><td>NA</td><td>NA</td></tr>\n",
       "</tbody>\n",
       "</table>\n"
      ],
      "text/latex": [
       "A data.frame: 6 × 6\n",
       "\\begin{tabular}{r|llllll}\n",
       "  & User & Content & Date & URL & Coordinates & Place\\\\\n",
       "  & <chr> & <chr> & <chr> & <chr> & <chr> & <chr>\\\\\n",
       "\\hline\n",
       "\t1 & nadaespecial\\_\\_ & Con la misma soga puedo ahorcarme o saltar                                                                                             & 2014-12-30 22:55:34 & https://twitter.com/nadaespecial\\_\\_/status/550062666434506752 & NA & NA\\\\\n",
       "\t2 & LooreenaaN     & \"@SoyBuenCatre: Debí ahorcarme con el cordón umbilical.\"                                                                               & 2014-12-30 22:04:21 & https://twitter.com/LooreenaaN/status/550049781054439424     & NA & NA\\\\\n",
       "\t3 & errorbizarro\\_  & Estoy harto de ser pobre, asique ayer intente ahorcarme, pero en el intento el techo se me cayó encima, osea que también soy gordo. :( & 2014-12-30 21:57:08 & https://twitter.com/errorbizarro\\_/status/550047965302513664  & NA & NA\\\\\n",
       "\t4 & Straatoo       & Hay un viejo culiao acá que tiene un humor culiao tan ahueonao, que me dan ganas de tirarme ahorcarme de una wea                       & 2014-12-30 21:29:24 & https://twitter.com/Straatoo/status/550040983464083457       & NA & NA\\\\\n",
       "\t5 & yadizrh        & @emilioelde yo sería mas original..... Soy capaz de ahorcarme con un fideo cosido si no me contestas guapetón. I love you!!! \\textasciicircum{}\\_\\textasciicircum{}       & 2014-12-30 19:27:45 & https://twitter.com/yadizrh/status/550010368035405826        & NA & NA\\\\\n",
       "\t6 & AlexanndraMn   & Tengo el pelo tan largo que podría ahorcarme con él.                                                                                   & 2014-12-30 19:23:19 & https://twitter.com/AlexanndraMn/status/550009254745083905   & NA & NA\\\\\n",
       "\\end{tabular}\n"
      ],
      "text/markdown": [
       "\n",
       "A data.frame: 6 × 6\n",
       "\n",
       "| <!--/--> | User &lt;chr&gt; | Content &lt;chr&gt; | Date &lt;chr&gt; | URL &lt;chr&gt; | Coordinates &lt;chr&gt; | Place &lt;chr&gt; |\n",
       "|---|---|---|---|---|---|---|\n",
       "| 1 | nadaespecial__ | Con la misma soga puedo ahorcarme o saltar                                                                                             | 2014-12-30 22:55:34 | https://twitter.com/nadaespecial__/status/550062666434506752 | NA | NA |\n",
       "| 2 | LooreenaaN     | \"@SoyBuenCatre: Debí ahorcarme con el cordón umbilical.\"                                                                               | 2014-12-30 22:04:21 | https://twitter.com/LooreenaaN/status/550049781054439424     | NA | NA |\n",
       "| 3 | errorbizarro_  | Estoy harto de ser pobre, asique ayer intente ahorcarme, pero en el intento el techo se me cayó encima, osea que también soy gordo. :( | 2014-12-30 21:57:08 | https://twitter.com/errorbizarro_/status/550047965302513664  | NA | NA |\n",
       "| 4 | Straatoo       | Hay un viejo culiao acá que tiene un humor culiao tan ahueonao, que me dan ganas de tirarme ahorcarme de una wea                       | 2014-12-30 21:29:24 | https://twitter.com/Straatoo/status/550040983464083457       | NA | NA |\n",
       "| 5 | yadizrh        | @emilioelde yo sería mas original..... Soy capaz de ahorcarme con un fideo cosido si no me contestas guapetón. I love you!!! ^_^       | 2014-12-30 19:27:45 | https://twitter.com/yadizrh/status/550010368035405826        | NA | NA |\n",
       "| 6 | AlexanndraMn   | Tengo el pelo tan largo que podría ahorcarme con él.                                                                                   | 2014-12-30 19:23:19 | https://twitter.com/AlexanndraMn/status/550009254745083905   | NA | NA |\n",
       "\n"
      ],
      "text/plain": [
       "  User          \n",
       "1 nadaespecial__\n",
       "2 LooreenaaN    \n",
       "3 errorbizarro_ \n",
       "4 Straatoo      \n",
       "5 yadizrh       \n",
       "6 AlexanndraMn  \n",
       "  Content                                                                                                                               \n",
       "1 Con la misma soga puedo ahorcarme o saltar                                                                                            \n",
       "2 \"@SoyBuenCatre: Debí ahorcarme con el cordón umbilical.\"                                                                              \n",
       "3 Estoy harto de ser pobre, asique ayer intente ahorcarme, pero en el intento el techo se me cayó encima, osea que también soy gordo. :(\n",
       "4 Hay un viejo culiao acá que tiene un humor culiao tan ahueonao, que me dan ganas de tirarme ahorcarme de una wea                      \n",
       "5 @emilioelde yo sería mas original..... Soy capaz de ahorcarme con un fideo cosido si no me contestas guapetón. I love you!!! ^_^      \n",
       "6 Tengo el pelo tan largo que podría ahorcarme con él.                                                                                  \n",
       "  Date               \n",
       "1 2014-12-30 22:55:34\n",
       "2 2014-12-30 22:04:21\n",
       "3 2014-12-30 21:57:08\n",
       "4 2014-12-30 21:29:24\n",
       "5 2014-12-30 19:27:45\n",
       "6 2014-12-30 19:23:19\n",
       "  URL                                                          Coordinates\n",
       "1 https://twitter.com/nadaespecial__/status/550062666434506752 NA         \n",
       "2 https://twitter.com/LooreenaaN/status/550049781054439424     NA         \n",
       "3 https://twitter.com/errorbizarro_/status/550047965302513664  NA         \n",
       "4 https://twitter.com/Straatoo/status/550040983464083457       NA         \n",
       "5 https://twitter.com/yadizrh/status/550010368035405826        NA         \n",
       "6 https://twitter.com/AlexanndraMn/status/550009254745083905   NA         \n",
       "  Place\n",
       "1 NA   \n",
       "2 NA   \n",
       "3 NA   \n",
       "4 NA   \n",
       "5 NA   \n",
       "6 NA   "
      ]
     },
     "metadata": {},
     "output_type": "display_data"
    }
   ],
   "source": [
    "head(datos_ahorcarme)"
   ]
  },
  {
   "cell_type": "code",
   "execution_count": 8,
   "metadata": {
    "vscode": {
     "languageId": "r"
    }
   },
   "outputs": [],
   "source": [
    "# Obtenemos del dataframe las que tengan usuarios que aparezcan más de 5 veces\n",
    "\n",
    "# Ahorcarme\n",
    "datos_ahorcarme <- datos_ahorcarme %>%\n",
    "    group_by(User) %>%\n",
    "    filter(n() > 5)\n",
    "\n",
    "# Colgarme\n",
    "datos_colgarme <- datos_colgarme %>%\n",
    "    group_by(User) %>%\n",
    "    filter(n() > 5)"
   ]
  },
  {
   "cell_type": "code",
   "execution_count": 11,
   "metadata": {
    "vscode": {
     "languageId": "r"
    }
   },
   "outputs": [],
   "source": [
    "# Creamos la lista de los usuarios que aparecen más de 5 veces\n",
    "\n",
    "# Ahorcarme\n",
    "usuarios_ahorcarme <- unique(datos_ahorcarme$User)\n",
    "\n",
    "# Colgarme\n",
    "usuarios_colgarme <- unique(datos_colgarme$User)"
   ]
  },
  {
   "cell_type": "markdown",
   "metadata": {},
   "source": [
    "Ahora, podemos revisar manualmente los tweets de los usuarios que colocamos en la lista negra bajo este criterio, para determinar si realmente sus publicaciones son despreciables para el análisis."
   ]
  },
  {
   "cell_type": "code",
   "execution_count": 19,
   "metadata": {
    "vscode": {
     "languageId": "r"
    }
   },
   "outputs": [],
   "source": [
    "# Obtenemos los tweets de estos usuarios, para revisarlos manualmente\n",
    "\n",
    "# Ahorcarme\n",
    "tweets_ahorcarme <- datos_ahorcarme %>%\n",
    "    filter(User %in% usuarios_ahorcarme) %>%\n",
    "    select(User, Content)\n",
    "\n",
    "# Colgarme\n",
    "tweets_colgarme <- datos_colgarme %>%\n",
    "    filter(User %in% usuarios_colgarme) %>%\n",
    "    select(User, Content)\n",
    "\n",
    "# Y sacamos una muestra del 10% de los tweets\n",
    "\n",
    "# Ahorcarme\n",
    "obj_muestra_ahorcarme <- sample(1:nrow(tweets_ahorcarme), nrow(tweets_ahorcarme) * 0.1)\n",
    "\n",
    "# Colgarme\n",
    "obj_muestra_colgarme <- sample(1:nrow(tweets_colgarme), nrow(tweets_colgarme) * 0.1)"
   ]
  },
  {
   "cell_type": "code",
   "execution_count": 22,
   "metadata": {
    "vscode": {
     "languageId": "r"
    }
   },
   "outputs": [],
   "source": [
    "# Guardamos los tweets en un archivo\n",
    "\n",
    "# Ahorcarme\n",
    "write.table(\n",
    "    tweets_ahorcarme[obj_muestra_ahorcarme, ],\n",
    "    file = \"./datos_limpios/tweets_ahorcarme.txt\",\n",
    "    row.names = FALSE,\n",
    "    col.names = TRUE,\n",
    "    quote = TRUE,\n",
    "    sep = \",\"\n",
    ")\n",
    "\n",
    "# Colgarme\n",
    "write.table(\n",
    "    tweets_colgarme[obj_muestra_colgarme, ],\n",
    "    file = \"./datos_limpios/tweets_colgarme.txt\",\n",
    "    row.names = FALSE,\n",
    "    col.names = TRUE,\n",
    "    quote = TRUE,\n",
    "    sep = \",\"\n",
    ")\n"
   ]
  },
  {
   "cell_type": "code",
   "execution_count": 21,
   "metadata": {
    "vscode": {
     "languageId": "r"
    }
   },
   "outputs": [],
   "source": [
    "# Guardamos a los usuarios en lista negra en un archivo línea por línea:\n",
    "\n",
    "# Ahorcarme\n",
    "writeLines(usuarios_ahorcarme, \"./datos_limpios/lista_negra_ahorcarme.txt\", sep = \"\\n\")\n",
    "\n",
    "# Colgarme\n",
    "writeLines(usuarios_colgarme, \"./datos_limpios/lista_negra_colgarme.txt\", sep = \"\\n\")"
   ]
  },
  {
   "cell_type": "code",
   "execution_count": null,
   "metadata": {
    "vscode": {
     "languageId": "r"
    }
   },
   "outputs": [],
   "source": []
  }
 ],
 "metadata": {
  "kernelspec": {
   "display_name": "R",
   "language": "R",
   "name": "ir"
  },
  "language_info": {
   "codemirror_mode": "r",
   "file_extension": ".r",
   "mimetype": "text/x-r-source",
   "name": "R",
   "pygments_lexer": "r",
   "version": "4.2.2"
  },
  "orig_nbformat": 4,
  "vscode": {
   "interpreter": {
    "hash": "26de051ba29f2982a8de78e945f0abaf191376122a1563185a90213a26c5da77"
   }
  }
 },
 "nbformat": 4,
 "nbformat_minor": 2
}
